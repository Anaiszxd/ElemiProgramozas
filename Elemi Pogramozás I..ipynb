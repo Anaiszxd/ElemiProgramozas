{
 "cells": [
  {
   "cell_type": "markdown",
   "metadata": {},
   "source": [
    "# Elemi Programozás"
   ]
  },
  {
   "cell_type": "markdown",
   "metadata": {},
   "source": [
    "Halmai Ákos\n",
    "\n",
    "Pécsi Tudományegyetem\n",
    "\n",
    "Természettudományi Kar\n",
    "\n",
    "Földrajzi és Földtudományi Intézet\n",
    "\n",
    "Térképészeti és Geoinformatikai Tanszék"
   ]
  },
  {
   "cell_type": "markdown",
   "metadata": {},
   "source": [
    "<span style=\"color:red\">Nincs kész! Ne olvasgasd!</span>"
   ]
  },
  {
   "cell_type": "markdown",
   "metadata": {},
   "source": [
    "http://foldrajz.ttk.pte.hu/munkatars/halmai_akos\n",
    "\n",
    "https://www.facebook.com/people/%C3%81kos-Halmai/100006926054823"
   ]
  },
  {
   "cell_type": "markdown",
   "metadata": {},
   "source": [
    "# Bevezetés"
   ]
  },
  {
   "cell_type": "markdown",
   "metadata": {},
   "source": [
    "A python™ az egyik legnépszerűbb, széleskörben elterjedt szkriptnyelv. Gyakran használják különböző szoftverekben rutinszerűen elvégzendő műveletek automatizálására és makrózására, de önállóan is gyakran lehet vele találkozni – mind az üzleti-, mind a tudományos világban."
   ]
  },
  {
   "cell_type": "markdown",
   "metadata": {},
   "source": [
    "A python™ egy szabadszoftver, így forráskódja megismerhető és elemezhető. A python™ leírása, súgója, dokumentációja, binárisai és licenc-feltételei elérhetők a https://www.python.org/ link alatt."
   ]
  },
  {
   "cell_type": "markdown",
   "metadata": {},
   "source": [
    "A python™ elérhető Microsoft® Windows®-ra, macOS X-re, AIX-re, IBM-re, iOS-re, OS/390-re, z/OS-re, Solaris-ra, VMS-re, HP-UX-re és gyakorlatilag mindenféle Linux-ra és UNIX-szerű operációs rendszerre, így – gyakorlatilag – platformfüggetlennek tekinthető."
   ]
  },
  {
   "cell_type": "markdown",
   "metadata": {},
   "source": [
    "A python™ egyik alapelképzelése, hogy egy egyszerű szövegfájlban megfogalmazzuk python™ programunkat és az bárol, bármilyen platformon lefuttathatjuk, ahol van python™ környezet telepítve."
   ]
  },
  {
   "cell_type": "markdown",
   "metadata": {},
   "source": [
    "A python™ interaktív, interpreteres szkriptnyelv: ez a gyakorlatban azt jelenti, hogy az utasításokat kvázi soronként értelmezi és hajtja végre. Ez jelentős eltérés a C, a C++, a C♯, de akár még az ECMAScript (JavaScript) egyes megvalósításaihoz képest is."
   ]
  },
  {
   "cell_type": "markdown",
   "metadata": {},
   "source": [
    "## 🕱–! Spoiler Alert !–🕱"
   ]
  },
  {
   "cell_type": "markdown",
   "metadata": {},
   "source": [
    "A következő részekben a python™ lényegi részei következnek; azok, akik ezek megismerését a vizsga előtti 10 percre, vagy az azt megelőző fél éjszakára szeretnék tartogatni mostantól 𝘯𝘦 figyeljenek oda!"
   ]
  },
  {
   "cell_type": "markdown",
   "metadata": {},
   "source": [
    "## Numerikus változók"
   ]
  },
  {
   "cell_type": "code",
   "execution_count": 1,
   "metadata": {},
   "outputs": [],
   "source": [
    "# Innentől közvetlenül a python™ konzolra, vagy szkriptfájlba írunk.\n",
    "# A sor elején szereplő „#” jel jelzi a python™ értelmezője számára,\n",
    "# hogy a következő sortörés karakter(ek)ig tartó rész nem utasítás,\n",
    "# hanem csak egy „komment”, egy olyan megjegyzés, amely csak azt a\n",
    "# célt szolgálja, hogy magyarázatokat, leírásokat fűzzünk a kódunkhoz.\n",
    "\n",
    "# A python™ nem érzékeny a „#” jel sorközi, ismételt használatára,\n",
    "# így továbbra is komment módban vagyunk."
   ]
  },
  {
   "cell_type": "code",
   "execution_count": 2,
   "metadata": {},
   "outputs": [],
   "source": [
    "# A python™ erősen leegyszerűsített „#” a felhasználó kényelme érdekében –,\n",
    "# és gyakorlatilag három fő hategóriára osztható:\n",
    "#     1. számokra (egészekre és lebegőpontosokra)\n",
    "#     2. szövegre\n",
    "#     3. objektumokra\n",
    "\n",
    "# Kezdjük a számokkal!\n",
    "\n",
    "# Változók értékadása típustól függeletenül mindig azonos formában történik:\n",
    "#     változónév = érték\n",
    "\n",
    "# Adjunk meg egy egészszámot:\n",
    "egesz = 15 # Itt „egesz” jelöli a változó nevét – később így hivatkozunk rá –,\n",
    "           # az „=” maga az utasítás, hogy legyen egyenlő,\n",
    "           # a „15” pedig maga az érték.\n",
    "           # A python™ onnan tudja, hogy ez egy egészszám, hogy nincs benne\n",
    "           # tizedesjel, ami a pythonban univerzálisan „.” (sima pont)."
   ]
  },
  {
   "cell_type": "code",
   "execution_count": 3,
   "metadata": {},
   "outputs": [
    {
     "name": "stdout",
     "output_type": "stream",
     "text": [
      "15\n"
     ]
    }
   ],
   "source": [
    "# Nyomtassuk ki a képernyőre!\n",
    "print(egesz)"
   ]
  },
  {
   "cell_type": "code",
   "execution_count": 4,
   "metadata": {},
   "outputs": [],
   "source": [
    "# Próbáljuk meg lebegőpontos számmal is:\n",
    "lebego = 2.718281828459045"
   ]
  },
  {
   "cell_type": "code",
   "execution_count": 5,
   "metadata": {},
   "outputs": [
    {
     "name": "stdout",
     "output_type": "stream",
     "text": [
      "2.718281828459045\n"
     ]
    }
   ],
   "source": [
    "print(lebego)"
   ]
  },
  {
   "cell_type": "code",
   "execution_count": 6,
   "metadata": {},
   "outputs": [],
   "source": [
    "# Természetesen az alábbiak is mind lebegőpontos számok:\n",
    "l1 = .1 # Vezető nulla lespórolható, bár nem ajánlott.\n",
    "l2 = 2.71828182845904523536028747135266249775724709369995\n",
    "l3 = -0.13 # Negatív számokhoz mínusz jel.\n",
    "l4 = -.189\n",
    "l5 = 1. # Igen, még ez is egy lebegőpontos, mert van benne „.”.\n",
    "l6 = +3.14 # Kitehetjük a vezető „+” jelet is, ha az egyértelműség\n",
    "           # miatt szükséges lenne."
   ]
  },
  {
   "cell_type": "code",
   "execution_count": 7,
   "metadata": {},
   "outputs": [
    {
     "name": "stdout",
     "output_type": "stream",
     "text": [
      "0.1; 2.718281828459045; -0.13; -0.189; 1.0; 3.14\n"
     ]
    }
   ],
   "source": [
    "# Nyomtassuk ki:\n",
    "print(l1, l2, l3, l4, l5, l6, sep=\"; \")"
   ]
  },
  {
   "cell_type": "code",
   "execution_count": 8,
   "metadata": {},
   "outputs": [
    {
     "name": "stdout",
     "output_type": "stream",
     "text": [
      "2.708333333333333\n"
     ]
    }
   ],
   "source": [
    "# Természetesen matematikai műveletek eredményeként is elő-\n",
    "# állíthatunk lebegőpontos számokat:\n",
    "e = (1 / 1) + (1 / 1) + (1 / (1 * 2)) + (1 / (1 * 2 * 3)) + (1 / (1 * 2 * 3 * 4))\n",
    "# Még akkor is, ha a bemeneti számok csupa egésszámok,\n",
    "# de a művelet törtet eredményez.\n",
    "\n",
    "print(e) # Ez egy elég gyenge közelítése az 𝘦-nek (Euler-féle szám)\n",
    "                                        "
   ]
  },
  {
   "cell_type": "markdown",
   "metadata": {},
   "source": [
    "A fenti, „e = (1 / 1) + (1 / 1) + (1 / (1 * 2))…” kifejezés az alábbi képtelet valósította meg python™ környezetben:\n",
    "\n",
    "\n",
    "\\begin{align}\n",
    "e\\approx \\frac{1}{1}+\\frac{1}{1}+\\frac{1}{1\\cdot 2}+\\frac{1}{1\\cdot 2\\cdot 3}+\\frac{1}{1\\cdot 2\\cdot 3\\cdot 4}\n",
    "\\end{align}\n",
    "\n",
    "\n",
    "\\begin{align}\n",
    "\\LaTeX\n",
    "\\end{align}"
   ]
  },
  {
   "cell_type": "code",
   "execution_count": 9,
   "metadata": {},
   "outputs": [],
   "source": [
    "# python-ban az alábbi műveletek használhatók:\n",
    "# + összeadás,\n",
    "# - kivonás,\n",
    "# * szorzás,\n",
    "# / osztás,\n",
    "# // egészosztás, pl: 3 // 2 = 1; (3.14 // 2 = 1.0)\n",
    "# % maradék-képzés\n",
    "#   pl: 13 % 5 = 3 (megvan kétszer, maradt a 3)\n",
    "# ** hatványozás ahol balra van az alap, jobbra a kitevő pl:\n",
    "#    2 ** 3 jelenti a 2³-t."
   ]
  },
  {
   "cell_type": "code",
   "execution_count": 10,
   "metadata": {},
   "outputs": [],
   "source": [
    "# Figyelem! Régi (ősrégi, <3.x) python verziók nem térnek át\n",
    "# automatikusan lebegőpontos számra, ha az eredmény egyébként\n",
    "# lebegőpontos lenne, pl: 3.1 / 2 = 1; az újabbakban:\n",
    "# 3.1 / 2 = 1.55!"
   ]
  },
  {
   "cell_type": "markdown",
   "metadata": {},
   "source": [
    "Akit részletesebben érdekel: https://docs.python.org/2/tutorial/introduction.html"
   ]
  },
  {
   "cell_type": "markdown",
   "metadata": {},
   "source": [
    "Gyakorlásként számítsuk ki python segítségével az y értékét az alábbi képlet segítségével a következő x értékekre: 3; 4; 7; 9,85\n",
    "\n",
    "\\begin{align}\n",
    "y=ax^2+bx+c,\n",
    "\\end{align}\n",
    "\n",
    "ha \n",
    "\n",
    "\\begin{align}\n",
    "a=-0.13312\n",
    "\\end{align}\n",
    "\\begin{align}\n",
    "b=-1.7279\n",
    "\\end{align}\n",
    "\\begin{align}\n",
    "c=229.45\n",
    "\\end{align}"
   ]
  },
  {
   "cell_type": "code",
   "execution_count": 11,
   "metadata": {},
   "outputs": [
    {
     "name": "stdout",
     "output_type": "stream",
     "text": [
      "223.06822\n"
     ]
    }
   ],
   "source": [
    "a = -0.13312\n",
    "b =  -1.7279\n",
    "c =   229.45\n",
    "\n",
    "x = 3\n",
    "\n",
    "y = a * x ** 2 + b * x + c\n",
    "print(y)"
   ]
  },
  {
   "cell_type": "code",
   "execution_count": 12,
   "metadata": {},
   "outputs": [
    {
     "name": "stdout",
     "output_type": "stream",
     "text": [
      "223.06822\n"
     ]
    }
   ],
   "source": [
    "# De ha már nagyon rutinos python™ versenyzők vagyunk:\n",
    "a, b, c = -0.13312, -1.7279, 229.45 # Így is lehet értéket adni:\n",
    "                                    # első az elsőhöz, második…\n",
    "x = 3\n",
    "y = a * x * x + b * x + c\n",
    "print(y)"
   ]
  },
  {
   "cell_type": "code",
   "execution_count": 13,
   "metadata": {},
   "outputs": [
    {
     "name": "stdout",
     "output_type": "stream",
     "text": [
      "223.06822\n"
     ]
    }
   ],
   "source": [
    "# És aki még dörzsöltebb:\n",
    "a, b, c = -0.13312, -1.7279, 229.45\n",
    "x = 3\n",
    "print(a * x * x + b * x + c)\n",
    "# https://en.wikipedia.org/wiki/Syntactic_sugar\n",
    "# https://www.lowrance.com/lowrance/type/sonar-transducers/hst-wsbl/"
   ]
  },
  {
   "cell_type": "markdown",
   "metadata": {},
   "source": [
    "<span style=\"color:red\">🔔 Előfordulhat, hogy ebből a részből *teljesen váratlanul* röpdolgozatot írunk a következő óra elején.</span> A sírás és fogcsikorgatás elkerülése érdekében praktikus lenne otthon, vagy itt egy kicsit gyakorolni, még akkor is, ha látszólag nagyon egyszerű a feladat.\n",
    "Ha nem akartok python-t használni PC-n, akkor vannak jó online python interpreterek is, pl: https://repl.it/languages/python3\n",
    "Ezek telefonról is mennek."
   ]
  },
  {
   "cell_type": "code",
   "execution_count": 14,
   "metadata": {},
   "outputs": [
    {
     "name": "stdout",
     "output_type": "stream",
     "text": [
      "70; 4.66920160910299\n",
      "70  ← ‘k’\n"
     ]
    }
   ],
   "source": [
    "# Természetesen változót is egyenlővé tehetünk változóval:\n",
    "i, k = 70, 4.66920160910299\n",
    "print(i, k, sep=\"; \")\n",
    "k = i\n",
    "print(k, \" ← ‘k’\")"
   ]
  },
  {
   "cell_type": "code",
   "execution_count": 15,
   "metadata": {},
   "outputs": [],
   "source": [
    "# Vátozók értékének felcserélése:\n",
    "i, k = 70, 4.66920160910299 # Sima, összevont értékadás\n",
    "i, k = k, i # Nem kell köztes (harmadik) változó :-)"
   ]
  },
  {
   "cell_type": "markdown",
   "metadata": {},
   "source": [
    "## Változók típusának lekérdezése"
   ]
  },
  {
   "cell_type": "code",
   "execution_count": 16,
   "metadata": {},
   "outputs": [
    {
     "name": "stdout",
     "output_type": "stream",
     "text": [
      "Az ‘𝒍’ változó típusa: <class 'float'>\n",
      "Az ‘𝑒’ változó típusa: <class 'int'>\n",
      "\n",
      "\n",
      "Ez lebegőpontos lesz: <class 'float'>\n",
      "Ez egész: <class 'int'>\n",
      "\n",
      "\n",
      "Közvetlen értékadással is működik: <class 'int'>\n"
     ]
    }
   ],
   "source": [
    "# Idág még csak a szám típusú változók két altípusát\n",
    "# ismertük meg, de hogyan lehet ezeket a kódból meg-\n",
    "# különböztetni?\n",
    "# Ha mi magunk írjuk a kódot, akkor nyilván könnyű,\n",
    "# de mi van akkor, ha valahonnan külső forrásból\n",
    "# származik a változó?\n",
    "\n",
    "# A típus lekérdezésére a python™ egy beépített\n",
    "# kulcsszót kínál: ez a „type(…)”.\n",
    "\n",
    "l = 2 ** .5 # Ez a √2 ≈ 1.4142135….\n",
    "e = 3\n",
    "\n",
    "print(\"Az ‘𝒍’ változó típusa:\", type(l)) # <class 'float'>\n",
    "print(\"Az ‘𝑒’ változó típusa:\", type(e)) # <class 'int'>\n",
    "\n",
    "print(\"\\n\") # Így nyomtatunk sortörést, hogy az eremények\n",
    "            # ne follyanak össze.\n",
    "\n",
    "# Természetesen nem csak változókkal, hanem más\n",
    "# kifejezeésekkel is működik:\n",
    "print(\"Ez lebegőpontos lesz:\", type(2 ** (1 / 3))) # <class 'float'>\n",
    "print(\"Ez egész:\", type(1 * 2 * 3 * 4)) # <class 'int'>\n",
    "\n",
    "print(\"\\n\")\n",
    "\n",
    "print(\"Közvetlen értékadással is működik:\", type(99))\n",
    "\n",
    "# Ha érdekelnek a különleges karakterek, pl. amit fenn‘𝒍’-ként\n",
    "# és ‘𝑒’-ként használtam, vagy a ‘…’ (ellipszis), vagy egészen\n",
    "# vad dolgokra váygtok, akkor próbáljátok ki a\n",
    "# \n",
    "#  https://t͓̼͍e̞̘͇l̠̦̫l͉͙͔.̝̪̝w̳͖t͕̳͜f̘͕̙-et!\n",
    "# \n",
    "# (https://tell.wtf)"
   ]
  },
  {
   "cell_type": "markdown",
   "metadata": {},
   "source": [
    "# Egyszerű műveletek szám típusú változókkal I."
   ]
  },
  {
   "cell_type": "markdown",
   "metadata": {},
   "source": [
    "Kísérlet képpen előszőr egy primitív meteorológiai statisztikát fogunk kiszámítani."
   ]
  },
  {
   "cell_type": "code",
   "execution_count": 17,
   "metadata": {},
   "outputs": [
    {
     "name": "stdout",
     "output_type": "stream",
     "text": [
      "<class '_io.TextIOWrapper'>\n"
     ]
    }
   ],
   "source": [
    "# Ezen jupyter notebook gyökerében található egy szöveges állámány,\n",
    "# Thermo.csv néven. Ez az állomány egy közönséges szövegfájl,\n",
    "# ASCII karakterkódolással, fejléc nélkül.\n",
    "# A fájlban egyetlen egy oszlop található, amely a 2019.08.14 11:30\n",
    "# előtti 24 óra léghőmérsékleti viszonyait írja le, lebegőpontos\n",
    "# számok formájában, úgy, hogy a tizedesjel pont. Összesen 144 db\n",
    "# sor van a fájlban (6 * 24). Nézzük meg először a fájlt egy\n",
    "# egyszerű szövegmegjelenítőben (gedit, notepad, notepad++, stb.)!\n",
    "\n",
    "# Ezen adatsorból szeretnénk kiszámolni a minium, a maximum, az\n",
    "# átlag és a szórás értékét.\n",
    "\n",
    "# Ezt a feladatot két lépésben fogjuk megvalósítani: először\n",
    "# beolvassul a szövegfájl tartalmát, aztán kiszámoljuk a \n",
    "# statisztikákat.\n",
    "\n",
    "# A szövegfájlok olvasására a python egy beépített függvénnyel\n",
    "# rendelkezik: ez az open. Az open általános alakja:\n",
    "\n",
    "# valtozo = open(<elérési út>)\n",
    "\n",
    "# Nézzük meg a valóságban:\n",
    "file = open(\"./Thermo.csv\")\n",
    "\n",
    "# Ezzel létrejött egy speciális változónk, amelnyek a típusa\n",
    "# „szövegolvasó”. Teszteljük is le a type utasítással:\n",
    "print(type(file)) # <class '_io.TextIOWrapper'>\n",
    "# Ez a 3. változótípus (fentebb)."
   ]
  },
  {
   "cell_type": "code",
   "execution_count": 18,
   "metadata": {},
   "outputs": [
    {
     "name": "stdout",
     "output_type": "stream",
     "text": [
      "27.3\n",
      "\n",
      "27.3\n",
      "\n",
      "27.5\n",
      "\n",
      "27.5\n",
      "\n",
      "28.3\n",
      "\n",
      "28.1\n",
      "\n",
      "28\n",
      "\n",
      "28.2\n",
      "\n",
      "27.8\n",
      "\n",
      "28.1\n",
      "\n",
      "28\n",
      "\n",
      "28.4\n",
      "\n",
      "28.4\n",
      "\n",
      "28\n",
      "\n",
      "27.7\n",
      "\n",
      "28.2\n",
      "\n",
      "27.9\n",
      "\n",
      "27.8\n",
      "\n",
      "27.8\n",
      "\n",
      "28.3\n",
      "\n",
      "27.7\n",
      "\n",
      "27.5\n",
      "\n",
      "27.1\n",
      "\n",
      "27.2\n",
      "\n",
      "27.4\n",
      "\n",
      "27.1\n",
      "\n",
      "27.1\n",
      "\n",
      "27.3\n",
      "\n",
      "27.6\n",
      "\n",
      "27.7\n",
      "\n",
      "26.7\n",
      "\n",
      "26.4\n",
      "\n",
      "26.2\n",
      "\n",
      "25.8\n",
      "\n",
      "25.6\n",
      "\n",
      "25.3\n",
      "\n",
      "25\n",
      "\n",
      "25\n",
      "\n",
      "25\n",
      "\n",
      "25.7\n",
      "\n",
      "25.7\n",
      "\n",
      "25.7\n",
      "\n",
      "25.4\n",
      "\n",
      "25.2\n",
      "\n",
      "25\n",
      "\n",
      "24.7\n",
      "\n",
      "24.4\n",
      "\n",
      "24.1\n",
      "\n",
      "23.8\n",
      "\n",
      "23.8\n",
      "\n",
      "23.7\n",
      "\n",
      "23.5\n",
      "\n",
      "23.5\n",
      "\n",
      "23.4\n",
      "\n",
      "23.5\n",
      "\n",
      "23.4\n",
      "\n",
      "23.3\n",
      "\n",
      "23.2\n",
      "\n",
      "23\n",
      "\n",
      "23\n",
      "\n",
      "23\n",
      "\n",
      "22.9\n",
      "\n",
      "23.1\n",
      "\n",
      "23.1\n",
      "\n",
      "22.9\n",
      "\n",
      "22.9\n",
      "\n",
      "22.9\n",
      "\n",
      "22.8\n",
      "\n",
      "22.7\n",
      "\n",
      "22.5\n",
      "\n",
      "22.2\n",
      "\n",
      "22.2\n",
      "\n",
      "22\n",
      "\n",
      "21.8\n",
      "\n",
      "21.8\n",
      "\n",
      "21.9\n",
      "\n",
      "20.5\n",
      "\n",
      "19.4\n",
      "\n",
      "19.5\n",
      "\n",
      "19.6\n",
      "\n",
      "19.9\n",
      "\n",
      "20.1\n",
      "\n",
      "19.9\n",
      "\n",
      "19.8\n",
      "\n",
      "19.5\n",
      "\n",
      "19.4\n",
      "\n",
      "19.3\n",
      "\n",
      "19.2\n",
      "\n",
      "19.2\n",
      "\n",
      "19.3\n",
      "\n",
      "19.4\n",
      "\n",
      "19.2\n",
      "\n",
      "19.2\n",
      "\n",
      "18.8\n",
      "\n",
      "18.4\n",
      "\n",
      "17.7\n",
      "\n",
      "17.3\n",
      "\n",
      "17.2\n",
      "\n",
      "17.2\n",
      "\n",
      "17.3\n",
      "\n",
      "17.2\n",
      "\n",
      "17.2\n",
      "\n",
      "16.9\n",
      "\n",
      "16.5\n",
      "\n",
      "16.5\n",
      "\n",
      "16.4\n",
      "\n",
      "16.4\n",
      "\n",
      "16.3\n",
      "\n",
      "16.3\n",
      "\n",
      "16.3\n",
      "\n",
      "16.1\n",
      "\n",
      "16\n",
      "\n",
      "16\n",
      "\n",
      "16\n",
      "\n",
      "16.2\n",
      "\n",
      "16.1\n",
      "\n",
      "16.2\n",
      "\n",
      "16.1\n",
      "\n",
      "16.2\n",
      "\n",
      "16.3\n",
      "\n",
      "16.1\n",
      "\n",
      "16\n",
      "\n",
      "16\n",
      "\n",
      "15.8\n",
      "\n",
      "15.7\n",
      "\n",
      "15.6\n",
      "\n",
      "15.4\n",
      "\n",
      "15.4\n",
      "\n",
      "15.3\n",
      "\n",
      "15.3\n",
      "\n",
      "15.2\n",
      "\n",
      "15.2\n",
      "\n",
      "15.3\n",
      "\n",
      "15.3\n",
      "\n",
      "15.4\n",
      "\n",
      "15.1\n",
      "\n",
      "15.2\n",
      "\n",
      "15.4\n",
      "\n",
      "15.5\n",
      "\n",
      "15.5\n",
      "\n",
      "15.8\n",
      "\n",
      "16.1\n",
      "\n",
      "16.4\n",
      "\n",
      "16.4\n"
     ]
    }
   ],
   "source": [
    "# Fussunk végig a fájlon és nyomtassuk ki az összes sorát a\n",
    "# python képernyőjére!\n",
    "# Ebben is egy beépített szolgáltatás fog nekünk segíteni. A\n",
    "# python-ban a szövegfájlok sorokba szervezettek így soronként\n",
    "# haladhatunk benne:\n",
    "\n",
    "for sor in file:\n",
    "    # A fentebbi utasítás azt kéri, hogy haldjunk végig a fájlon\n",
    "    # soronként, amíg el nem érjük a fájl végét.\n",
    "    # A sor nevű változó, maga a sor értéke.\n",
    "    print(sor) # Ez az utasítás négy szóközzel behúzott.\n",
    "    # Innen tudja a python, hogy ez egy olyan utasítás, amit\n",
    "    # minden sorra végre kell hajtani.\n",
    "    \n",
    "# Zárjuk be a fájlt:\n",
    "file.close() # A fájlokat használat után mindig be kell zárni!\n",
    "del file # Többé nem lehet erre a változóra hivatkozni."
   ]
  },
  {
   "cell_type": "markdown",
   "metadata": {},
   "source": [
    "↑↑↑ Az előző blokk lefutatása után láthatjuk a fájl tartalmát soronként ↑↑↑"
   ]
  },
  {
   "cell_type": "code",
   "execution_count": 19,
   "metadata": {},
   "outputs": [
    {
     "name": "stdout",
     "output_type": "stream",
     "text": [
      "27.3\n",
      "\n",
      "27.3\n",
      "\n",
      "27.5\n",
      "\n",
      "27.5\n",
      "\n",
      "28.3\n",
      "\n",
      "28.1\n",
      "\n",
      "28\n",
      "\n",
      "28.2\n",
      "\n",
      "27.8\n",
      "\n",
      "28.1\n",
      "\n",
      "28\n",
      "\n",
      "28.4\n",
      "\n",
      "28.4\n",
      "\n",
      "28\n",
      "\n",
      "27.7\n",
      "\n",
      "28.2\n",
      "\n",
      "27.9\n",
      "\n",
      "27.8\n",
      "\n",
      "27.8\n",
      "\n",
      "28.3\n",
      "\n",
      "27.7\n",
      "\n",
      "27.5\n",
      "\n",
      "27.1\n",
      "\n",
      "27.2\n",
      "\n",
      "27.4\n",
      "\n",
      "27.1\n",
      "\n",
      "27.1\n",
      "\n",
      "27.3\n",
      "\n",
      "27.6\n",
      "\n",
      "27.7\n",
      "\n",
      "26.7\n",
      "\n",
      "26.4\n",
      "\n",
      "26.2\n",
      "\n",
      "25.8\n",
      "\n",
      "25.6\n",
      "\n",
      "25.3\n",
      "\n",
      "25\n",
      "\n",
      "25\n",
      "\n",
      "25\n",
      "\n",
      "25.7\n",
      "\n",
      "25.7\n",
      "\n",
      "25.7\n",
      "\n",
      "25.4\n",
      "\n",
      "25.2\n",
      "\n",
      "25\n",
      "\n",
      "24.7\n",
      "\n",
      "24.4\n",
      "\n",
      "24.1\n",
      "\n",
      "23.8\n",
      "\n",
      "23.8\n",
      "\n",
      "23.7\n",
      "\n",
      "23.5\n",
      "\n",
      "23.5\n",
      "\n",
      "23.4\n",
      "\n",
      "23.5\n",
      "\n",
      "23.4\n",
      "\n",
      "23.3\n",
      "\n",
      "23.2\n",
      "\n",
      "23\n",
      "\n",
      "23\n",
      "\n",
      "23\n",
      "\n",
      "22.9\n",
      "\n",
      "23.1\n",
      "\n",
      "23.1\n",
      "\n",
      "22.9\n",
      "\n",
      "22.9\n",
      "\n",
      "22.9\n",
      "\n",
      "22.8\n",
      "\n",
      "22.7\n",
      "\n",
      "22.5\n",
      "\n",
      "22.2\n",
      "\n",
      "22.2\n",
      "\n",
      "22\n",
      "\n",
      "21.8\n",
      "\n",
      "21.8\n",
      "\n",
      "21.9\n",
      "\n",
      "20.5\n",
      "\n",
      "19.4\n",
      "\n",
      "19.5\n",
      "\n",
      "19.6\n",
      "\n",
      "19.9\n",
      "\n",
      "20.1\n",
      "\n",
      "19.9\n",
      "\n",
      "19.8\n",
      "\n",
      "19.5\n",
      "\n",
      "19.4\n",
      "\n",
      "19.3\n",
      "\n",
      "19.2\n",
      "\n",
      "19.2\n",
      "\n",
      "19.3\n",
      "\n",
      "19.4\n",
      "\n",
      "19.2\n",
      "\n",
      "19.2\n",
      "\n",
      "18.8\n",
      "\n",
      "18.4\n",
      "\n",
      "17.7\n",
      "\n",
      "17.3\n",
      "\n",
      "17.2\n",
      "\n",
      "17.2\n",
      "\n",
      "17.3\n",
      "\n",
      "17.2\n",
      "\n",
      "17.2\n",
      "\n",
      "16.9\n",
      "\n",
      "16.5\n",
      "\n",
      "16.5\n",
      "\n",
      "16.4\n",
      "\n",
      "16.4\n",
      "\n",
      "16.3\n",
      "\n",
      "16.3\n",
      "\n",
      "16.3\n",
      "\n",
      "16.1\n",
      "\n",
      "16\n",
      "\n",
      "16\n",
      "\n",
      "16\n",
      "\n",
      "16.2\n",
      "\n",
      "16.1\n",
      "\n",
      "16.2\n",
      "\n",
      "16.1\n",
      "\n",
      "16.2\n",
      "\n",
      "16.3\n",
      "\n",
      "16.1\n",
      "\n",
      "16\n",
      "\n",
      "16\n",
      "\n",
      "15.8\n",
      "\n",
      "15.7\n",
      "\n",
      "15.6\n",
      "\n",
      "15.4\n",
      "\n",
      "15.4\n",
      "\n",
      "15.3\n",
      "\n",
      "15.3\n",
      "\n",
      "15.2\n",
      "\n",
      "15.2\n",
      "\n",
      "15.3\n",
      "\n",
      "15.3\n",
      "\n",
      "15.4\n",
      "\n",
      "15.1\n",
      "\n",
      "15.2\n",
      "\n",
      "15.4\n",
      "\n",
      "15.5\n",
      "\n",
      "15.5\n",
      "\n",
      "15.8\n",
      "\n",
      "16.1\n",
      "\n",
      "16.4\n",
      "\n",
      "16.4\n"
     ]
    }
   ],
   "source": [
    "# Nézzük meg egyben:\n",
    "file = open(\"./Thermo.csv\")\n",
    "for sor in file:\n",
    "    print(sor)\n",
    "\n",
    "file.close()\n",
    "del file"
   ]
  },
  {
   "cell_type": "code",
   "execution_count": 20,
   "metadata": {},
   "outputs": [
    {
     "name": "stdout",
     "output_type": "stream",
     "text": [
      "[2.718281828459045, 1.4142135623730951, 3.141592653589793]\n"
     ]
    }
   ],
   "source": [
    "# Ez a megoldás azonban még tökéletlen: ha valamit\n",
    "# kinyomtatunk a képernyőre, akkor ahhoz érték szintjén\n",
    "# többé nem férünk hozzá. Valahogy be kellene ezeket\n",
    "# a számokat olvasni a memórábam hogy utánna \n",
    "# műveleteket véhezhessünk rajtuk. Ehhez csak egy \n",
    "# kicsit kell változtatnuk a kódon és be kell vezetnünk\n",
    "# egy listát. A lista olyan változó, amely más változók\n",
    "# listáját/sorozatát/tömbjét tárolja.\n",
    "\n",
    "# Próbáljuk meg előszőr kicsiben!\n",
    "\n",
    "# Van három lebegőpontos számunk:\n",
    "# 1. 2.71828182845904523536028747135266249\n",
    "# 2. 1.41421356237309504880168872420969807\n",
    "# 3. 3.14159265358979323846264338327950288\n",
    "\n",
    "# Fűzzünk össze ezekből egy listát!\n",
    "\n",
    "lista = [2.71828182845904523536028747135266249, 1.41421356237309504880168872420969807, 3.14159265358979323846264338327950288]\n",
    "print(lista)"
   ]
  },
  {
   "cell_type": "code",
   "execution_count": 21,
   "metadata": {},
   "outputs": [
    {
     "name": "stdout",
     "output_type": "stream",
     "text": [
      "2.718281828459045\n",
      "1.4142135623730951\n",
      "3.141592653589793\n"
     ]
    }
   ],
   "source": [
    "# Ennek a listának az elemei természetsen\n",
    "# külön-külön is elérhetők:\n",
    "print(lista[0]) # Ez az első elem.\n",
    "print(lista[1]) # Ez a második elem.\n",
    "print(lista[2]) # Ez a harmadik elem.\n",
    "\n",
    "# A listák tartalmának elérése nullától indul,\n",
    "# és mindig []-et kell használni."
   ]
  },
  {
   "cell_type": "code",
   "execution_count": 22,
   "metadata": {},
   "outputs": [
    {
     "name": "stdout",
     "output_type": "stream",
     "text": [
      "3.141592653589793\n",
      "1.4142135623730951\n",
      "2.718281828459045\n",
      "\n",
      "\n",
      "0\n",
      "0\n"
     ]
    }
   ],
   "source": [
    "# Rafináltan, hátulról is hozzáférhetők az elemek:\n",
    "print(lista[-1]) # Ez – hátulról – az első elem.\n",
    "print(lista[-2]) # Ez – hátulról – a második elem.\n",
    "print(lista[-3]) # Ez – hátulról – a harmadik elem.\n",
    "\n",
    "# Hátulról az első elem azért nem -0 mert a pyton™\n",
    "# nem kezeli az előjeles nullákat:\n",
    "\n",
    "print(\"\\n\") # Csak egy sortörés\n",
    "\n",
    "print(0)\n",
    "print(-0)"
   ]
  },
  {
   "cell_type": "code",
   "execution_count": 23,
   "metadata": {},
   "outputs": [],
   "source": [
    "# Tehát így férhetünk hozzá a lista elemeihez:\n",
    "\n",
    "# → | +0. | +1. | +2. | +3. | +4. | +5. | +6. | +7. | →\n",
    "#   |-----|-----|-----|-----|-----|-----|-----|-----|\n",
    "#   |  3  |  5  |  8  | 13  | 21  | 34  | 55  | 89  | (Összesen 8 db elem)\n",
    "#   |-----|-----|-----|-----|-----|-----|-----|-----|\n",
    "# ← | −8. | −7. | −6. | −5. | −4. | −3. | −2. | −1. | ←\n",
    "\n",
    "# itt a lista a 3, 5, 8, 13, 21, 34, 35, 55, 89 számokból áll.\n",
    " \n",
    " # a táblázat: https://ozh.github.io/ascii-tables/\n",
    " # a nyilak: https://tell.wtf/"
   ]
  },
  {
   "cell_type": "code",
   "execution_count": 24,
   "metadata": {},
   "outputs": [
    {
     "name": "stdout",
     "output_type": "stream",
     "text": [
      "[2.718281828459045, 1.4142135623730951, 3.141592653589793]\n",
      "3\n"
     ]
    }
   ],
   "source": [
    "# A listák számossága a len()\n",
    "# függvénnyel érhető el.\n",
    "\n",
    "print(lista)\n",
    "print(len(lista))"
   ]
  },
  {
   "cell_type": "code",
   "execution_count": 25,
   "metadata": {},
   "outputs": [
    {
     "name": "stdout",
     "output_type": "stream",
     "text": [
      "2.718281828459045\n",
      "1.4142135623730951\n",
      "3.141592653589793\n"
     ]
    }
   ],
   "source": [
    "# A listák elemein egyenként is végighaladhatunk:\n",
    "for elem in lista:\n",
    "    print(elem)"
   ]
  },
  {
   "cell_type": "code",
   "execution_count": 26,
   "metadata": {},
   "outputs": [],
   "source": [
    "# Ez a konstrukció egy ciklus.\n",
    "# A cikuls a behúzott részt annyiszor\n",
    "# végrehajtja, ahány elem van a listán.\n",
    "# Itt most azt kértük, hogy nyomtasson ki\n",
    "# valamit egy értéket a listáról.\n",
    "# Három elem volt a listán három sort kaptunk."
   ]
  },
  {
   "cell_type": "code",
   "execution_count": 27,
   "metadata": {},
   "outputs": [
    {
     "name": "stdout",
     "output_type": "stream",
     "text": [
      "2.4246960148073113\n"
     ]
    }
   ],
   "source": [
    "# Ezzel az eszközzel akár átlagot is számolhatunk:\n",
    "\n",
    "osszeg = 0.0 # Köztes változó.\n",
    "for elem in lista: # Haladjunk végig!\n",
    "    osszeg += elem  # Adjuk hozzá az előző értékhez az aktuálisat. \n",
    "\n",
    "print(osszeg / len(lista)) # átlag = összeg / elemszám."
   ]
  },
  {
   "cell_type": "code",
   "execution_count": 28,
   "metadata": {},
   "outputs": [
    {
     "name": "stdout",
     "output_type": "stream",
     "text": [
      "[27.3, 27.3, 27.5, 27.5, 28.3, 28.1, 28.0, 28.2, 27.8, 28.1, 28.0, 28.4, 28.4, 28.0, 27.7, 28.2, 27.9, 27.8, 27.8, 28.3, 27.7, 27.5, 27.1, 27.2, 27.4, 27.1, 27.1, 27.3, 27.6, 27.7, 26.7, 26.4, 26.2, 25.8, 25.6, 25.3, 25.0, 25.0, 25.0, 25.7, 25.7, 25.7, 25.4, 25.2, 25.0, 24.7, 24.4, 24.1, 23.8, 23.8, 23.7, 23.5, 23.5, 23.4, 23.5, 23.4, 23.3, 23.2, 23.0, 23.0, 23.0, 22.9, 23.1, 23.1, 22.9, 22.9, 22.9, 22.8, 22.7, 22.5, 22.2, 22.2, 22.0, 21.8, 21.8, 21.9, 20.5, 19.4, 19.5, 19.6, 19.9, 20.1, 19.9, 19.8, 19.5, 19.4, 19.3, 19.2, 19.2, 19.3, 19.4, 19.2, 19.2, 18.8, 18.4, 17.7, 17.3, 17.2, 17.2, 17.3, 17.2, 17.2, 16.9, 16.5, 16.5, 16.4, 16.4, 16.3, 16.3, 16.3, 16.1, 16.0, 16.0, 16.0, 16.2, 16.1, 16.2, 16.1, 16.2, 16.3, 16.1, 16.0, 16.0, 15.8, 15.7, 15.6, 15.4, 15.4, 15.3, 15.3, 15.2, 15.2, 15.3, 15.3, 15.4, 15.1, 15.2, 15.4, 15.5, 15.5, 15.8, 16.1, 16.4, 16.4]\n",
      "\n",
      "Az aznapi átlaghőmérséklet: \n",
      "21.450694444444455°C\n"
     ]
    }
   ],
   "source": [
    "# Tehát most már ki tudjuk számolni az adott nap\n",
    "# átlaghőmérsékletét:\n",
    "\n",
    "thermolst = [] # Készítünk egy üres listát, amelynek a \n",
    "# típusa float.\n",
    "\n",
    "file = open(\"./Thermo.txt\")\n",
    "for sor in file:\n",
    "    thermolst.append(float(sor))\n",
    "    # A sor változó eredetileg szöveg,\n",
    "    # ezt át kell alakítani számmá,\n",
    "    # ezért be kell szúrni, hogy float(...)\n",
    "    \n",
    "    # Az append egy új elemet fűz a listához.\n",
    "\n",
    "file.close()\n",
    "del file\n",
    "\n",
    "# Ezzel van egy kész listánk:\n",
    "print(thermolst)\n",
    "\n",
    "# Most jöhet az átlag:\n",
    "osszeg = 0.0 # Köztes változó.\n",
    "for elem in thermolst: # Haladjunk végig!\n",
    "    osszeg += elem  # Adjuk hozzá az előző értékhez az aktuálisat. \n",
    "\n",
    "\n",
    "print(\"\\nAz aznapi átlaghőmérséklet: \")\n",
    "print(osszeg / len(thermolst), \"°C\", sep=\"\") # átlag = összeg / elemszám."
   ]
  },
  {
   "cell_type": "markdown",
   "metadata": {},
   "source": [
    "## Szöveges változók"
   ]
  },
  {
   "cell_type": "code",
   "execution_count": 29,
   "metadata": {},
   "outputs": [
    {
     "name": "stdout",
     "output_type": "stream",
     "text": [
      "Mért fáj neked az égő élet?\n",
      "Mért fáj neked az égő élet?\n"
     ]
    }
   ],
   "source": [
    "# A szöveges változókat python™-ban a numerikus\n",
    "# változókkal azonos módszerrel hozzuk létre:\n",
    "#\n",
    "#     változónév = \"érték\"\n",
    "# \n",
    "# Az egyetlen különbség, hogy a szöveges változók\n",
    "# értékét mindig idézőjelbe tesszük. Így különíti\n",
    "# el a python™ más parancsoktól.\n",
    "# Az idézőjel azonban a python™-ban két féle képpen\n",
    "# is alkalmazható:\n",
    "\n",
    "szv1 = \"Mért fáj neked az égő élet?\" # Tehát dupla idézőjel (AltGr+2)\n",
    "szv2 = 'Mért fáj neked az égő élet?' # Tehát szimpla idézőjel (AltGr+1)\n",
    "\n",
    "# A két változó kinyomtatva természetesen\n",
    "# ugyanazt az értéket adja:\n",
    "\n",
    "print(szv1)\n",
    "print(szv2)\n",
    "\n",
    "# (http://magyar-irodalom.elte.hu/sulinet/igyjo/setup/portrek/ady/grofisze.htm)"
   ]
  },
  {
   "cell_type": "code",
   "execution_count": 30,
   "metadata": {},
   "outputs": [
    {
     "name": "stdout",
     "output_type": "stream",
     "text": [
      "Azt mondta, hogy 'Nem értem!'\n"
     ]
    }
   ],
   "source": [
    "# A python™-nak ez atípusú rugalmassága\n",
    "# lehetővé teszi, hogy idézőjeleket\n",
    "# ágyazzunk egyásba:\n",
    "\n",
    "szv3 = \"Azt mondta, hogy 'Nem értem!'\"\n",
    "\n",
    "# Nyomtatva természetesen az idézőjel is bekerül\n",
    "# a szöveges változó értékébe:\n",
    "\n",
    "print(szv3)"
   ]
  },
  {
   "cell_type": "code",
   "execution_count": 31,
   "metadata": {},
   "outputs": [
    {
     "name": "stdout",
     "output_type": "stream",
     "text": [
      "\"XanɐX\"\n"
     ]
    }
   ],
   "source": [
    "# A beágyazás természtesen fordítva is működik:\n",
    "\n",
    "szv4 = '\"XanɐX\"'\n",
    "print(szv4)"
   ]
  },
  {
   "cell_type": "code",
   "execution_count": 32,
   "metadata": {},
   "outputs": [
    {
     "name": "stdout",
     "output_type": "stream",
     "text": [
      "PROJCS[\"WGS 84 / Pseudo-Mercator\",\n",
      "    GEOGCS[\"WGS 84\",\n",
      "        DATUM[\"WGS_1984\",\n",
      "            SPHEROID[\"WGS 84\",6378137,298.257223563,\n",
      "                AUTHORITY[\"EPSG\",\"7030\"]],\n",
      "            AUTHORITY[\"EPSG\",\"6326\"]],\n",
      "        PRIMEM[\"Greenwich\",0,\n",
      "            AUTHORITY[\"EPSG\",\"8901\"]],\n",
      "        UNIT[\"degree\",0.0174532925199433,\n",
      "            AUTHORITY[\"EPSG\",\"9122\"]],\n",
      "        AUTHORITY[\"EPSG\",\"4326\"]],\n",
      "    PROJECTION[\"Mercator_1SP\"],\n",
      "    PARAMETER[\"central_meridian\",0],\n",
      "    PARAMETER[\"scale_factor\",1],\n",
      "    PARAMETER[\"false_easting\",0],\n",
      "    PARAMETER[\"false_northing\",0],\n",
      "    UNIT[\"metre\",1,\n",
      "        AUTHORITY[\"EPSG\",\"9001\"]],\n",
      "    AXIS[\"X\",EAST],\n",
      "    AXIS[\"Y\",NORTH],\n",
      "    EXTENSION[\"PROJ4\",\"+proj=merc +a=6378137 +b=6378137 +lat_ts=0.0 +lon_0=0.0 +x_0=0.0 +y_0=0 +k=1.0 +units=m +nadgrids=@null +wktext  +no_defs\"],\n",
      "    AUTHORITY[\"EPSG\",\"3857\"]]\n",
      "\n",
      "\n",
      "\n",
      "Be mersz menni, vagy kint maradsz?\n",
      "Lehet, hogy megjárod, lehet, hogy sikert aratsz.\n",
      "Ha bemész, jobbra fordulsz, vagy balra?\n",
      "Ha eltévedsz, azt mondják rád, balga.\n",
      "Sebesen cikázol ismeretlen tájakon.\n",
      "Kacskaringós utakon, nyaktörő pályákon.\n",
      "Furcsa térben bolyongsz végtelenül,\n",
      "A hely felé, mely a leghasztalanabb mind közül.\n",
      "A váróba. Ahol várnak.\n",
      "A vonat indulását várják, hogy megérkezzen a busz,\n",
      "Hogy felszálljon a repülő, a csomagra, mit targonca húz,\n",
      "Hogy elálljon az eső, megcsörrenjen a telefon\n",
      "Hogy essen a hó, és a rosszból legyen végre jó.\n",
      "Drágaköves karórára, egy szép mezre.\n",
      "Loknis parókára, új kezdetre.\n",
      "\n",
      "\n",
      "    Be mersz menni, vagy kint maradsz?\n",
      "    Lehet, hogy megjárod, lehet, hogy sikert aratsz.\n",
      "    Ha bemész, jobbra fordulsz, vagy balra?\n",
      "    Ha eltévedsz, azt mondják rád, balga.\n",
      "    Sebesen cikázol ismeretlen tájakon.\n",
      "    Kacskaringós utakon, nyaktörő pályákon.\n",
      "    Furcsa térben bolyongsz végtelenül,\n",
      "    A hely felé, mely a leghasztalanabb mind közül.\n",
      "    A váróba. Ahol várnak.\n",
      "    A vonat indulását várják, hogy megérkezzen a busz,\n",
      "    Hogy felszálljon a repülő, a csomagra, mit targonca húz,\n",
      "    Hogy elálljon az eső, megcsörrenjen a telefon\n",
      "    Hogy essen a hó, és a rosszból legyen végre jó.\n",
      "    Drágaköves karórára, egy szép mezre.\n",
      "    Loknis parókára, új kezdetre.\n",
      "    \n",
      "\n"
     ]
    }
   ],
   "source": [
    "# Ritkán, de előfordul, hogy több soron átívelő\n",
    "# szöveget kell megadnunk, ekkor tripla-dupla (\"\"\"),\n",
    "# vagy tripla-szinpla idézőjelet használhatunk (''').\n",
    "# Ilyenkor a sortörés is bekerül a szövegbe.\n",
    "\n",
    "# Például:\n",
    "\n",
    "WebMercatorPRJString = '''PROJCS[\"WGS 84 / Pseudo-Mercator\",\n",
    "    GEOGCS[\"WGS 84\",\n",
    "        DATUM[\"WGS_1984\",\n",
    "            SPHEROID[\"WGS 84\",6378137,298.257223563,\n",
    "                AUTHORITY[\"EPSG\",\"7030\"]],\n",
    "            AUTHORITY[\"EPSG\",\"6326\"]],\n",
    "        PRIMEM[\"Greenwich\",0,\n",
    "            AUTHORITY[\"EPSG\",\"8901\"]],\n",
    "        UNIT[\"degree\",0.0174532925199433,\n",
    "            AUTHORITY[\"EPSG\",\"9122\"]],\n",
    "        AUTHORITY[\"EPSG\",\"4326\"]],\n",
    "    PROJECTION[\"Mercator_1SP\"],\n",
    "    PARAMETER[\"central_meridian\",0],\n",
    "    PARAMETER[\"scale_factor\",1],\n",
    "    PARAMETER[\"false_easting\",0],\n",
    "    PARAMETER[\"false_northing\",0],\n",
    "    UNIT[\"metre\",1,\n",
    "        AUTHORITY[\"EPSG\",\"9001\"]],\n",
    "    AXIS[\"X\",EAST],\n",
    "    AXIS[\"Y\",NORTH],\n",
    "    EXTENSION[\"PROJ4\",\"+proj=merc +a=6378137 +b=6378137 +lat_ts=0.0 +lon_0=0.0 +x_0=0.0 +y_0=0 +k=1.0 +units=m +nadgrids=@null +wktext  +no_defs\"],\n",
    "    AUTHORITY[\"EPSG\",\"3857\"]]''' # (https://www.spatialreference.org/ref/sr-org/7483/prettywkt/)\n",
    "\n",
    "print(WebMercatorPRJString) # Az eredmény egy sortöréseket és\n",
    "# szóközöket egyaránt tartalmazó szöveg lesz.\n",
    "\n",
    "# Természetesen tripla-dupla idézőjellel is működik:\n",
    "\n",
    "tores = '''Be mersz menni, vagy kint maradsz?\n",
    "Lehet, hogy megjárod, lehet, hogy sikert aratsz.\n",
    "Ha bemész, jobbra fordulsz, vagy balra?\n",
    "Ha eltévedsz, azt mondják rád, balga.\n",
    "Sebesen cikázol ismeretlen tájakon.\n",
    "Kacskaringós utakon, nyaktörő pályákon.\n",
    "Furcsa térben bolyongsz végtelenül,\n",
    "A hely felé, mely a leghasztalanabb mind közül.\n",
    "A váróba. Ahol várnak.\n",
    "A vonat indulását várják, hogy megérkezzen a busz,\n",
    "Hogy felszálljon a repülő, a csomagra, mit targonca húz,\n",
    "Hogy elálljon az eső, megcsörrenjen a telefon\n",
    "Hogy essen a hó, és a rosszból legyen végre jó.\n",
    "Drágaköves karórára, egy szép mezre.\n",
    "Loknis parókára, új kezdetre.''' # (https://www.imdb.com/title/tt0488120/?ref_=nv_sr_2?ref_=nv_sr_2)\n",
    "\n",
    "print(\"\\n\\n\") # Két üres sor, pusztán a formázás végett.\n",
    "\n",
    "print(tores)\n",
    "\n",
    "\n",
    "# A python™ legtöb esetben egy sorban egy utasítást használ,\n",
    "# és bár egy sorban lehet több, egymásba ágyazott utasítás is,\n",
    "# viszont nem engedélyezi, hogy egy utasítás több sorba kerüljön.\n",
    "# Így szabálytalan, hogy például egy változóhoz úgy rendeljünk\n",
    "# értéket, hogy\n",
    "\n",
    "# 𝗩𝗮𝗹𝘁𝗼𝘇𝗼𝗡𝗲𝘃𝗲\n",
    "# =              (Nem működik!)\n",
    "# '𝗔𝗳𝗿𝗶𝗸𝗮𝗶 𝗳𝗲𝗰𝘀𝗸𝗲'\n",
    "\n",
    "# Ebben az esetben az utasítás három sorba lett szétosztva,\n",
    "# és azonnal szintaktikai hibát is kapunk.\n",
    "# Viszont, ha ott ahol szeretnénk az utasítást új sorba törni\n",
    "# beüthetünk egy ‘\\’ (AltGr+Q) jelet, akkor új sorban folytathatjuk\n",
    "# az utasítás, legyen az értékadás, vagy bármilyen komplex\n",
    "# kifejezés.\n",
    "\n",
    "# Például itt egyzserűen új sorba ugrunk az egyenlőségjel után:\n",
    "# (‘\\’ után nem következhet ‘#’)\n",
    "tores = \\\n",
    "'''\n",
    "\n",
    "    Be mersz menni, vagy kint maradsz?\n",
    "    Lehet, hogy megjárod, lehet, hogy sikert aratsz.\n",
    "    Ha bemész, jobbra fordulsz, vagy balra?\n",
    "    Ha eltévedsz, azt mondják rád, balga.\n",
    "    Sebesen cikázol ismeretlen tájakon.\n",
    "    Kacskaringós utakon, nyaktörő pályákon.\n",
    "    Furcsa térben bolyongsz végtelenül,\n",
    "    A hely felé, mely a leghasztalanabb mind közül.\n",
    "    A váróba. Ahol várnak.\n",
    "    A vonat indulását várják, hogy megérkezzen a busz,\n",
    "    Hogy felszálljon a repülő, a csomagra, mit targonca húz,\n",
    "    Hogy elálljon az eső, megcsörrenjen a telefon\n",
    "    Hogy essen a hó, és a rosszból legyen végre jó.\n",
    "    Drágaköves karórára, egy szép mezre.\n",
    "    Loknis parókára, új kezdetre.\n",
    "    \n",
    "'''\n",
    "\n",
    "print(tores)"
   ]
  },
  {
   "cell_type": "markdown",
   "metadata": {},
   "source": [
    "### Escape karakterek"
   ]
  },
  {
   "cell_type": "code",
   "execution_count": 33,
   "metadata": {},
   "outputs": [
    {
     "name": "stdout",
     "output_type": "stream",
     "text": [
      "\n",
      "|  𝗡𝗮𝗺𝗲\t|  𝗩𝗶𝘀𝗶𝘁𝗼𝗿𝘀\t|\n",
      "—————————————————————————————————\n",
      "|  index.hu\t|  1 543 045\t|\n",
      "|  ncore.cc\t|    893 667\t|\n",
      "|  444.hu\t|    472 386\t|\n",
      "—————————————————————————————————\n",
      "|  𝝨∶\t\t|  𝟮 𝟵𝟬𝟵 𝟬𝟵𝟴\t|\n",
      "\n",
      "*http://ite.hu/legnezettebb-hazai-weboldalak-rangsora/\n"
     ]
    }
   ],
   "source": [
    "# Vannak olyan speciális karakterek,amelyeket nem lehet,\n",
    "# vagy nem kényelmes közvetlenül beütni: ezek megadásához\n",
    "# a C-típusú programnyelvek escape karaktereket használnak.\n",
    "\n",
    "# Ezeket a karaktereket szöveg közben lehet elhelyezni\n",
    "# és minden esetben ‘\\’-el kell bevezetni őket.\n",
    "# Ezek közül a legfontosabbak:\n",
    "# 1.  ‘\\n’: új sorba ugrik (tehát egy, vagy két sortörés karaktert szúr be).\n",
    "# 2.  ‘\\t’: egy ‘tab’ karaktert szúr be\n",
    "# 3.  ‘\\\\’: egy ‘\\’-jelet szúr be.\n",
    "# 4.  ‘\\\"’: egy dupla idézőjelet (\") szúr be.\n",
    "# 💡   Akit a teljes lista érdekel: https://docs.python.org/2.0/ref/strings.html\n",
    "\n",
    "# Az útóbbi ‘\\\\’ különösen hasznos Windows® környezetben,\n",
    "# ahol a mappaelválasztó jel is ‘\\’, így a Windows®-os\n",
    "# elérési utakat a következő képpen üthetjük be:\n",
    "\n",
    "# C:\\\\Program Files\\\\Python\\\\bin…\n",
    "\n",
    "# Készítsünk egy táblázatot ezzel módszerrel:\n",
    "\n",
    "fejlec = \"\\n|  𝗡𝗮𝗺𝗲\\t|  𝗩𝗶𝘀𝗶𝘁𝗼𝗿𝘀\\t|\\n—————————————————————————————————\"\n",
    "tartalom = \"|  index.hu\\t|  1 543 045\\t|\\n|  ncore.cc\\t|    893 667\\t|\\n|  444.hu\\t|    472 386\\t|\"\n",
    "lablec = \"—————————————————————————————————\\n|  𝝨∶\\t\\t|  𝟮 𝟵𝟬𝟵 𝟬𝟵𝟴\\t|\\n\"\n",
    "megjegyzes=\"*http://ite.hu/legnezettebb-hazai-weboldalak-rangsora/\"\n",
    "\n",
    "print(fejlec)\n",
    "print(tartalom)\n",
    "print(lablec)\n",
    "print(megjegyzes)"
   ]
  },
  {
   "cell_type": "markdown",
   "metadata": {},
   "source": [
    "### Hogy működik az UTF-8?"
   ]
  },
  {
   "cell_type": "code",
   "execution_count": 34,
   "metadata": {},
   "outputs": [],
   "source": [
    " #           bájtok  bitek    UTF-8 kódolás\n",
    " #           -----   ----    -----------------------------------\n",
    " #           1        7      0vvvvvvv\n",
    " #           2       11      110vvvvv 10vvvvvv\n",
    " #           3       16      1110vvvv 10vvvvvv 10vvvvvv\n",
    " #           4       21      11110vvv 10vvvvvv 10vvvvvv 10vvvvvv\n",
    " #           -----   ----    -----------------------------------\n",
    "\n",
    " # https://referencesource.microsoft.com/#mscorlib/system/text/utf8encoding.cs,ee958a03b656d3ce\n",
    "\n",
    "# Próbáljuk meg manuálisan kódolni az ñ betűt:\n",
    "# az ñ decimális értéke 241.\n",
    "# Nézzük meg, melyik kategóriába fér bele:\n",
    "# 1. 2⁷ = 128‬ Nem jó, kevés\n",
    "# 2. 2¹¹ = 2048 Jó lesz. Belefér.\n",
    "# Tehát a sablon biztosan így fog kinézni:\n",
    "#    110vvvvv 10vvvvvv\n",
    "\n",
    "# Váltsuk át a 241₁₀ kettes számrendszerbe:\n",
    "# 241|1\n",
    "# 120|0\n",
    "#  60|0\n",
    "#  30|0\n",
    "#  15|1\n",
    "#   7|1\n",
    "#   3|1\n",
    "#   1|1\n",
    "\n",
    "# A fát ledöntve:\n",
    "# 241₁₀ = 1111 0001₂\n",
    "\n",
    "# Előszőr egészítsük ki, hogy 11 számjegyű legyen:\n",
    "# 00011110001₂\n",
    "\n",
    "# Végül egyszerűen bemásoljuk a sablonba,\n",
    "# jobbról kezdve, amíg tart, a sablon elemeket átugorva:\n",
    "# 110vvvvv 10vvvvvv\n",
    "# ×××↓↓↓↓↓ ××↓↓↓↓↓↓\n",
    "#    00011   110001\n",
    "# ↓↓↓↓↓↓↓↓ ↓↓↓↓↓↓↓↓\n",
    "# 11000011 10110001\n",
    "\n",
    "# Íme a nyertes szám:\n",
    "# 11000011 10110001"
   ]
  }
 ],
 "metadata": {
  "kernelspec": {
   "display_name": "Python 3",
   "language": "python",
   "name": "python3"
  },
  "language_info": {
   "codemirror_mode": {
    "name": "ipython",
    "version": 3
   },
   "file_extension": ".py",
   "mimetype": "text/x-python",
   "name": "python",
   "nbconvert_exporter": "python",
   "pygments_lexer": "ipython3",
   "version": "3.6.8"
  }
 },
 "nbformat": 4,
 "nbformat_minor": 2
}
