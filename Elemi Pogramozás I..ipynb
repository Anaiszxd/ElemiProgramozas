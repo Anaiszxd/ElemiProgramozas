{
 "cells": [
  {
   "cell_type": "markdown",
   "metadata": {},
   "source": [
    "# Bevezetés"
   ]
  },
  {
   "cell_type": "markdown",
   "metadata": {},
   "source": [
    "A python™ az egyik legnépszerűbb, széleskörben elterjedt szkriptnyelv. Gyakran használják különböző szoftverekben rutinszerűen elvégzendő műveletek automatizálására és makrózására, de önállóan is gyakran lehet vele találkozni – mind az üzleti-, mind a tudományos világban."
   ]
  },
  {
   "cell_type": "markdown",
   "metadata": {},
   "source": [
    "A python™ egy szabadszoftver, így forráskódja megismerhető és elemezhető. A python™ leírása, súgója, dokumentációja, binárisai és licenc-feltételei elérhetők a https://www.python.org/ link alatt."
   ]
  },
  {
   "cell_type": "markdown",
   "metadata": {},
   "source": [
    "A python™ elérhető Microsoft® Windows®-ra, macOS X-re, AIX-re, IBM-re, iOS-re, OS/390-re, z/OS-re, Solaris-ra, VMS-re, HP-UX-re és gyakorlatilag mindenféle Linux-ra és UNIX-szerű operációs rendszerre, így – gyakorlatilag – platformfüggetlennek tekinthető."
   ]
  },
  {
   "cell_type": "markdown",
   "metadata": {},
   "source": [
    "A python™ egyik alapelképzelése, hogy egy egyszerű szövegfájlban megfogalmazzuk python™ programunkat és az bárol, bármilyen platformon lefuttathatjuk, ahol van python™ környezet telepítve."
   ]
  },
  {
   "cell_type": "markdown",
   "metadata": {},
   "source": [
    "A python™ interaktív, interpreteres szkriptnyelv: ez a gyakorlatban azt jelenti, hogy az utasításokat kvázi soronként értelmezi és hajtja végre. Ez jelentős eltérés a C, a C++, a C♯, de akár még az ECMAScript (JavaScript) egyes megvalósításaihoz képest is."
   ]
  },
  {
   "cell_type": "markdown",
   "metadata": {},
   "source": [
    "## 🕱–! Spoiler Alert !–🕱"
   ]
  },
  {
   "cell_type": "markdown",
   "metadata": {},
   "source": [
    "A következő részekben a python™ lényegi részei következnek; azok, akik ezek megismerését a vizsga előtti 10 percre, vagy az azt megelőző fél éjszakára szeretnék tartogatni mostantól 𝘯𝘦 figyeljenek oda!"
   ]
  },
  {
   "cell_type": "markdown",
   "metadata": {},
   "source": [
    "## Numerikus változók"
   ]
  },
  {
   "cell_type": "code",
   "execution_count": 2,
   "metadata": {},
   "outputs": [],
   "source": [
    "# Innentől közvetlenül a python™ konzolra, vagy szkriptfájlba írunk.\n",
    "# A sor elején szereplő „#” jel jelzi a python™ értelmezője számára,\n",
    "# hogy a következő sortörés karakter(ek)ig tartó rész nem utasítás,\n",
    "# hanem csak egy „komment”, egy olyan megjegyzés, amely csak azt a\n",
    "# célt szolgálja, hogy magyarázatokat, leírásokat fűzzünk a kódunkhoz.\n",
    "\n",
    "# A python™ nem érzékeny a „#” jel sorközi, ismételt használatára,\n",
    "# így továbbra is komment módban vagyunk."
   ]
  },
  {
   "cell_type": "code",
   "execution_count": 3,
   "metadata": {},
   "outputs": [],
   "source": [
    "# A python™ erősen leegyszerűsített „#” a felhasználó kényelme érdekében –,\n",
    "# és gyakorlatilag három fő hategóriára osztható:\n",
    "#     1. számokra (egészekre és lebegőpontosokra)\n",
    "#     2. szövegre\n",
    "#     3. objektumokra\n",
    "\n",
    "# Kezdjük a számokkal!\n",
    "\n",
    "# Változók értékadása típustól függeletenül mindig azonos formában történik:\n",
    "#     változónév = érték\n",
    "\n",
    "# Adjunk meg egy egészszámot:\n",
    "egesz = 15 # Itt „egesz” jelöli a változó nevét – később így hivatkozunk rá –,\n",
    "           # az „=” maga az utasítás, hogy legyen egyenlő,\n",
    "           # a „15” pedig maga az érték.\n",
    "           # A python™ onnan tudja, hogy ez egy egészszám, hogy nincs benne\n",
    "           # tizedesjel, ami a pythonban univerzálisan „.” (sima pont)."
   ]
  },
  {
   "cell_type": "code",
   "execution_count": 4,
   "metadata": {},
   "outputs": [
    {
     "name": "stdout",
     "output_type": "stream",
     "text": [
      "15\n"
     ]
    }
   ],
   "source": [
    "# Nyomtassuk ki a képernyőre!\n",
    "print(egesz)"
   ]
  },
  {
   "cell_type": "code",
   "execution_count": 7,
   "metadata": {},
   "outputs": [],
   "source": [
    "# Próbáljuk meg lebegőpontos számmal is:\n",
    "lebego = 2.718281828459045"
   ]
  },
  {
   "cell_type": "code",
   "execution_count": 6,
   "metadata": {},
   "outputs": [
    {
     "name": "stdout",
     "output_type": "stream",
     "text": [
      "2.718281828459045\n"
     ]
    }
   ],
   "source": [
    "print(lebego)"
   ]
  },
  {
   "cell_type": "code",
   "execution_count": 10,
   "metadata": {},
   "outputs": [],
   "source": [
    "# Természetesen az alábbiak is mind lebegőpontos számok:\n",
    "l1 = .1 # Vezető nulla lespórolható, bár nem ajánlott.\n",
    "l2 = 2.71828182845904523536028747135266249775724709369995\n",
    "l3 = -0.13 # Negatív számokhoz mínusz jel.\n",
    "l4 = -.189\n",
    "l5 = 1. # Igen, még ez is egy lebegőpontos, mert van benne „.”.\n",
    "l6 = +3.14 # Kitehetjük a vezető „+” jelet is, ha az egyértelműség\n",
    "           # miatt szükséges lenne."
   ]
  },
  {
   "cell_type": "code",
   "execution_count": 14,
   "metadata": {},
   "outputs": [
    {
     "name": "stdout",
     "output_type": "stream",
     "text": [
      "0.1; 2.718281828459045; -0.13; -0.189; 1.0; 3.14\n"
     ]
    }
   ],
   "source": [
    "# Nyomtassuk ki:\n",
    "print(l1, l2, l3, l4, l5, l6, sep=\"; \")"
   ]
  },
  {
   "cell_type": "code",
   "execution_count": 18,
   "metadata": {},
   "outputs": [
    {
     "name": "stdout",
     "output_type": "stream",
     "text": [
      "2.708333333333333\n"
     ]
    }
   ],
   "source": [
    "# Természetesen matematikai műveletek eredményeként is elő-\n",
    "# állíthatunk lebegőpontos számokat:\n",
    "e = (1 / 1) + (1 / 1) + (1 / (1 * 2)) + (1 / (1 * 2 * 3)) + (1 / (1 * 2 * 3 * 4))\n",
    "# Még akkor is, ha a bemeneti számok csupa egésszámok,\n",
    "# de a művelet törtet eredményez.\n",
    "\n",
    "print(e) # Ez egy elég gyenge közelítése az 𝘦-nek (Euler-féle szám)\n",
    "                                        "
   ]
  },
  {
   "cell_type": "markdown",
   "metadata": {},
   "source": [
    "A fenti, „e = (1 / 1) + (1 / 1) + (1 / (1 * 2))…” kifejezés az alábbi képtelet valósította meg python™ környezetben:\n",
    "\n",
    "\n",
    "\\begin{align}\n",
    "e\\approx \\frac{1}{1}+\\frac{1}{1}+\\frac{1}{1\\cdot 2}+\\frac{1}{1\\cdot 2\\cdot 3}+\\frac{1}{1\\cdot 2\\cdot 3\\cdot 4}\n",
    "\\end{align}\n",
    "\n",
    "\n",
    "\\begin{align}\n",
    "\\LaTeX\n",
    "\\end{align}"
   ]
  },
  {
   "cell_type": "code",
   "execution_count": 21,
   "metadata": {},
   "outputs": [],
   "source": [
    "# python-ban az alábbi műveletek használhatók:\n",
    "# + összeadás,\n",
    "# - kivonás,\n",
    "# * szorzás,\n",
    "# / osztás,\n",
    "# // egészosztás, pl: 3 // 2 = 1; (3.14 // 2 = 1.0)\n",
    "# % maradék-képzés\n",
    "#   pl: 13 % 5 = 3 (megvan kétszer, maradt a 3)\n",
    "# ** hatványozás ahol balra van az alap, jobbra a kitevő pl:\n",
    "#    2 ** 3 jelenti a 2³-t."
   ]
  },
  {
   "cell_type": "code",
   "execution_count": 22,
   "metadata": {},
   "outputs": [],
   "source": [
    "# Figyelem! Régi (ősrégi, <3.x) python verziók nem térnek át\n",
    "# automatikusan lebegőpontos számra, ha az eredmény egyébként\n",
    "# lebegőpontos lenne, pl: 3.1 / 2 = 1; az újabbakban:\n",
    "# 3.1 / 2 = 1.55!"
   ]
  },
  {
   "cell_type": "markdown",
   "metadata": {},
   "source": [
    "Akit részletesebben érdekel: https://docs.python.org/2/tutorial/introduction.html"
   ]
  },
  {
   "cell_type": "markdown",
   "metadata": {},
   "source": [
    "Gyakorlásként számítsuk ki python segítségével az y értékét az alábbi képlet segítségével a következő x értékekre: 3; 4; 7; 9,85\n",
    "\n",
    "\\begin{align}\n",
    "y=ax^2+bx+c,\n",
    "\\end{align}\n",
    "\n",
    "ha \n",
    "\n",
    "\\begin{align}\n",
    "a=-0.13312\n",
    "\\end{align}\n",
    "\\begin{align}\n",
    "b=-1.7279\n",
    "\\end{align}\n",
    "\\begin{align}\n",
    "c=229.45\n",
    "\\end{align}"
   ]
  },
  {
   "cell_type": "code",
   "execution_count": 3,
   "metadata": {},
   "outputs": [
    {
     "name": "stdout",
     "output_type": "stream",
     "text": [
      "223.06822\n"
     ]
    }
   ],
   "source": [
    "a = -0.13312\n",
    "b =  -1.7279\n",
    "c =   229.45\n",
    "\n",
    "x = 3\n",
    "\n",
    "y = a * x ** 2 + b * x + c\n",
    "print(y)"
   ]
  },
  {
   "cell_type": "code",
   "execution_count": 2,
   "metadata": {},
   "outputs": [
    {
     "name": "stdout",
     "output_type": "stream",
     "text": [
      "223.06822\n"
     ]
    }
   ],
   "source": [
    "# De ha már nagyon rutinos python versenyzők vagyunk:\n",
    "a, b, c = -0.13312, -1.7279, 229.45 # Így is lehet értéket adni:\n",
    "                                    # első az elsőhöz, második…\n",
    "x = 3\n",
    "y = a * x * x + b * x + c\n",
    "print(y)"
   ]
  },
  {
   "cell_type": "code",
   "execution_count": 1,
   "metadata": {},
   "outputs": [
    {
     "name": "stdout",
     "output_type": "stream",
     "text": [
      "223.06822\n"
     ]
    }
   ],
   "source": [
    "# És aki még dörzsöltebb:\n",
    "a, b, c = -0.13312, -1.7279, 229.45\n",
    "x = 3\n",
    "print(a * x * x + b * x + c)\n",
    "# https://en.wikipedia.org/wiki/Syntactic_sugar\n",
    "# https://www.lowrance.com/lowrance/type/sonar-transducers/hst-wsbl/"
   ]
  },
  {
   "cell_type": "markdown",
   "metadata": {},
   "source": [
    "<span style=\"color:red\">🔔 Előfordulhat, hogy ebből a részből *teljesen váratlanul* röpdolgozatot írunk a következő óra elején.</span> A sírás és fogcsikorgatás elkerülése érdekében praktikus lenne otthon, vagy itt egy kicsit gyakorolni, még akkor is, ha látszólag nagyon egyszerű a feladat.\n",
    "Ha nem akartok python-t használni PC-n, akkor vannak jó online python interpreterek is, pl: https://repl.it/languages/python3\n",
    "Ezek telefonról is mennek."
   ]
  },
  {
   "cell_type": "code",
   "execution_count": 11,
   "metadata": {},
   "outputs": [
    {
     "name": "stdout",
     "output_type": "stream",
     "text": [
      "70; 4.66920160910299\n",
      "70  ← ‘k’\n"
     ]
    }
   ],
   "source": [
    "# Természetesen változót is egyenlővé tehetünk változóval:\n",
    "i, k = 70, 4.66920160910299\n",
    "print(i, k, sep=\"; \")\n",
    "k = i\n",
    "print(k, \" ← ‘k’\")"
   ]
  },
  {
   "cell_type": "code",
   "execution_count": 10,
   "metadata": {},
   "outputs": [],
   "source": [
    "# Vátozók értékének felcserélése:\n",
    "i, k = 70, 4.66920160910299 # Sima, összevont értékadás\n",
    "i, k = k, i # Nem kell köztes (harmadik) változó :-)"
   ]
  },
  {
   "cell_type": "markdown",
   "metadata": {},
   "source": [
    "## Változók típusának lekérdezése"
   ]
  },
  {
   "cell_type": "code",
   "execution_count": 16,
   "metadata": {},
   "outputs": [
    {
     "name": "stdout",
     "output_type": "stream",
     "text": [
      "Az ‘𝒍’ változó típusa: <class 'float'>\n",
      "Az ‘𝑒’ változó típusa: <class 'int'>\n",
      "\n",
      "\n",
      "Ez lebegőpontos lesz: <class 'float'>\n",
      "Ez egész: <class 'int'>\n",
      "\n",
      "\n",
      "Közvetlen értékadással is működik: <class 'int'>\n"
     ]
    }
   ],
   "source": [
    "# Idág még csak a szám típusú változók két altípusát\n",
    "# ismertük meg, de hogyan lehet ezeket a kódból meg-\n",
    "# különböztetni?\n",
    "# Ha mi magunk írjuk a kódot, akkor nyilván könnyű,\n",
    "# de mi van akkor, ha valahonnan külső forrásból\n",
    "# származik a változó?\n",
    "\n",
    "# A típus lekérdezésére a python™ egy beépített\n",
    "# kulcsszót kínál: ez a „type(…)”.\n",
    "\n",
    "l = 2 ** .5 # Ez a √2 ≈ 1.4142135….\n",
    "e = 3\n",
    "\n",
    "print(\"Az ‘𝒍’ változó típusa:\", type(l)) # <class 'float'>\n",
    "print(\"Az ‘𝑒’ változó típusa:\", type(e)) # <class 'int'>\n",
    "\n",
    "print(\"\\n\") # Így nyomtatunk sortörést, hogy az eremények\n",
    "            # ne follyanak össze.\n",
    "\n",
    "# Természetesen nem csak változókkal, hanem más\n",
    "# kifejezeésekkel is működik:\n",
    "print(\"Ez lebegőpontos lesz:\", type(2 ** (1/3))) # <class 'float'>\n",
    "print(\"Ez egész:\", type(1 * 2 * 3 * 4)) # <class 'int'>\n",
    "\n",
    "print(\"\\n\")\n",
    "\n",
    "print(\"Közvetlen értékadással is működik:\", type(99))\n",
    "\n",
    "# Ha érdekelnek a különleges karakterek, pl. amit fenn‘𝒍’-ként\n",
    "# és ‘𝑒’-ként használtam, vagy a ‘…’ (ellipszis), vagy egészen\n",
    "# vad dolgokra váygtok, akkor próbáljátok ki a\n",
    "# \n",
    "#  https://t͓̼͍e̞̘͇l̠̦̫l͉͙͔.̝̪̝w̳͖t͕̳͜f̘͕̙-et!\n",
    "# \n",
    "# (https://tell.wtf)"
   ]
  },
  {
   "cell_type": "markdown",
   "metadata": {},
   "source": [
    "## Szöveges változók"
   ]
  },
  {
   "cell_type": "code",
   "execution_count": 4,
   "metadata": {},
   "outputs": [
    {
     "name": "stdout",
     "output_type": "stream",
     "text": [
      "Mért fáj neked az égő élet?\n",
      "Mért fáj neked az égő élet?\n"
     ]
    }
   ],
   "source": [
    "# A szöveges változókat python™-ban a numerikus\n",
    "# változókkal azonos módszerrel hozzuk létre:\n",
    "#\n",
    "#     változónév = \"érték\"\n",
    "# \n",
    "# Az egyetlen különbség, hogy a szöveges változók\n",
    "# értékét mindig idézőjelbe tesszük. Így különíti\n",
    "# el a python™ más parancsoktól.\n",
    "# Az idézőjel azonban a python™-ban két féle képpen\n",
    "# is alkalmazható:\n",
    "\n",
    "szv1 = \"Mért fáj neked az égő élet?\" # Tehát dupla idézőjel (AltGr+2)\n",
    "szv2 = 'Mért fáj neked az égő élet?' # Tehát szimpla idézőjel (AltGr+1)\n",
    "\n",
    "# A két változó kinyomtatva természetesen\n",
    "# ugyanazt az értéket adja:\n",
    "\n",
    "print(szv1)\n",
    "print(szv2)\n",
    "\n",
    "# (http://magyar-irodalom.elte.hu/sulinet/igyjo/setup/portrek/ady/grofisze.htm)"
   ]
  },
  {
   "cell_type": "code",
   "execution_count": 5,
   "metadata": {},
   "outputs": [
    {
     "name": "stdout",
     "output_type": "stream",
     "text": [
      "Azt mondta, hogy 'Nem értem!'\n"
     ]
    }
   ],
   "source": [
    "# A python™-nak ez atípusú rugalmassága\n",
    "# lehetővé teszi, hogy idézőjeleket\n",
    "# ágyazzunk egyásba:\n",
    "\n",
    "szv3 = \"Azt mondta, hogy 'Nem értem!'\"\n",
    "\n",
    "# Nyomtatva természetesen az idézőjel is bekerül\n",
    "# a szöveges változó értékébe:\n",
    "\n",
    "print(szv3)"
   ]
  },
  {
   "cell_type": "code",
   "execution_count": 8,
   "metadata": {},
   "outputs": [
    {
     "name": "stdout",
     "output_type": "stream",
     "text": [
      "\"XanɐX\"\n"
     ]
    }
   ],
   "source": [
    "# A beágyazás terméstesen fordítva is működik:\n",
    "\n",
    "szv4 = '\"XanɐX\"'\n",
    "print(szv4)"
   ]
  },
  {
   "cell_type": "markdown",
   "metadata": {},
   "source": [
    "## Listák"
   ]
  },
  {
   "cell_type": "raw",
   "metadata": {},
   "source": [
    " → | +0. | +1. | +2. | +3. | +4. | +5. | +6. | +7. | →\n",
    "   |-----|-----|-----|-----|-----|-----|-----|-----|\n",
    "   |  3  |  5  |  8  | 13  | 21  | 34  | 55  | 89  | (Összesen 8 db elem)\n",
    "   |-----|-----|-----|-----|-----|-----|-----|-----|\n",
    " ← | −8. | −7. | −6. | −5. | −4. | −3. | −2. | −1. | ←\n",
    " \n",
    " # a táblázat: https://ozh.github.io/ascii-tables/\n",
    " # a nyilak: https://tell.wtf/"
   ]
  }
 ],
 "metadata": {
  "kernelspec": {
   "display_name": "Python 3",
   "language": "python",
   "name": "python3"
  },
  "language_info": {
   "codemirror_mode": {
    "name": "ipython",
    "version": 3
   },
   "file_extension": ".py",
   "mimetype": "text/x-python",
   "name": "python",
   "nbconvert_exporter": "python",
   "pygments_lexer": "ipython3",
   "version": "3.6.8"
  }
 },
 "nbformat": 4,
 "nbformat_minor": 2
}
