{
 "cells": [
  {
   "cell_type": "markdown",
   "metadata": {},
   "source": [
    "### Lebegőpontos számok"
   ]
  },
  {
   "cell_type": "markdown",
   "metadata": {},
   "source": [
    "A lebegőpontos számok nevüket a tárolási metódusukról kapták, mert valójában két egész számból lettek összefűzve:"
   ]
  },
  {
   "cell_type": "markdown",
   "metadata": {},
   "source": [
    "\\begin{align}\n",
    "\\underbrace{1367}_{szignifikáns}\\cdot {\\underbrace{10}_{alap}}^{\\underbrace{-2}_{kitevő}} = 13,67\n",
    "\\end{align}"
   ]
  },
  {
   "cell_type": "markdown",
   "metadata": {},
   "source": [
    "Ezzel a lebegőpontos számok két egész számból vannak: a szignifikáns számjegyekből és a kitevőből és a kitevő „lebegteti” ide-oda a tizedes pontot (magyarban vesszőt)."
   ]
  },
  {
   "cell_type": "code",
   "execution_count": 17,
   "metadata": {},
   "outputs": [],
   "source": [
    "# Az egészek után próbáljuk meg lebegőpontos számmal is:\n",
    "lebego = 2.718281828459045"
   ]
  },
  {
   "cell_type": "code",
   "execution_count": 5,
   "metadata": {},
   "outputs": [
    {
     "name": "stdout",
     "output_type": "stream",
     "text": [
      "2.718281828459045\n"
     ]
    }
   ],
   "source": [
    "print(lebego)"
   ]
  },
  {
   "cell_type": "code",
   "execution_count": 1,
   "metadata": {},
   "outputs": [],
   "source": [
    "# Természetesen az alábbiak is mind lebegőpontos számok:\n",
    "l1 = .1 # Vezető nulla lespórolható, bár nem ajánlott.\n",
    "l2 = 2.71828182845904523536028747135266249775724709369995\n",
    "l3 = -0.13 # Negatív számokhoz mínusz jel.\n",
    "l4 = -.189\n",
    "l5 = 1. # Igen, még ez is egy lebegőpontos, mert van benne „.”.\n",
    "l6 = +3.14 # Kitehetjük a vezető „+” jelet is, ha az egyértelműség\n",
    "           # miatt szükséges lenne.\n",
    "l7 = 6.67e-11 # Az „e” a normálalakú számok megadását szolgálja,\n",
    "              # pl.: 2,5·10⁴ → 2.5e+4"
   ]
  },
  {
   "cell_type": "code",
   "execution_count": 2,
   "metadata": {},
   "outputs": [
    {
     "name": "stdout",
     "output_type": "stream",
     "text": [
      "0.1; 2.718281828459045; -0.13; -0.189; 1.0; 3.14; 6.67e-11\n"
     ]
    }
   ],
   "source": [
    "# Nyomtassuk ki:\n",
    "print(l1, l2, l3, l4, l5, l6, l7, sep=\"; \")"
   ]
  },
  {
   "cell_type": "code",
   "execution_count": 26,
   "metadata": {},
   "outputs": [],
   "source": [
    "# Az egészekkel ellentétben a lebegőpontos számoknak\n",
    "# van minimum- és maximum értéke, amely platform\n",
    "# függő, de rendszerint:\n",
    "# [-1.79769313486232E+308; 1.79769313486232E+308] között lehet."
   ]
  },
  {
   "cell_type": "code",
   "execution_count": 8,
   "metadata": {},
   "outputs": [
    {
     "name": "stdout",
     "output_type": "stream",
     "text": [
      "2.708333333333333\n"
     ]
    }
   ],
   "source": [
    "# Természetesen matematikai műveletek eredményeként is elő-\n",
    "# állíthatunk lebegőpontos számokat:\n",
    "e = (1 / 1) + (1 / 1) + (1 / (1 * 2)) + (1 / (1 * 2 * 3)) + (1 / (1 * 2 * 3 * 4))\n",
    "# Még akkor is, ha a bemeneti számok csupa egésszámok,\n",
    "# de a művelet törtet eredményez.\n",
    "\n",
    "print(e) # Ez egy elég gyenge közelítése az 𝘦-nek (Euler-féle szám)\n",
    "                                        "
   ]
  },
  {
   "cell_type": "markdown",
   "metadata": {},
   "source": [
    "A fenti, „e = (1 / 1) + (1 / 1) + (1 / (1 * 2))…” kifejezés az alábbi képtelet valósította meg python™ környezetben:\n",
    "\n",
    "\n",
    "\\begin{align}\n",
    "e\\approx \\frac{1}{1}+\\frac{1}{1}+\\frac{1}{1\\cdot 2}+\\frac{1}{1\\cdot 2\\cdot 3}+\\frac{1}{1\\cdot 2\\cdot 3\\cdot 4}\n",
    "\\end{align}\n",
    "\n",
    "\n",
    "\\begin{align}\n",
    "\\LaTeX\n",
    "\\end{align}"
   ]
  },
  {
   "cell_type": "code",
   "execution_count": 1,
   "metadata": {},
   "outputs": [
    {
     "name": "stdout",
     "output_type": "stream",
     "text": [
      "2.718281828459045\n"
     ]
    }
   ],
   "source": [
    "# A lebegőpontos számok pontossága\n",
    "# ábrázolási módszerükből fakadóan korlátozott:\n",
    "\n",
    "csonkolas = 2.71828182845904523536028747135266249\n",
    "print(csonkolas)"
   ]
  },
  {
   "cell_type": "code",
   "execution_count": 3,
   "metadata": {},
   "outputs": [],
   "source": [
    "# Itt az el nem tárolható tizedesjegyek – figyelmeztetés nékül – egyszerűen levágódnak!"
   ]
  },
  {
   "cell_type": "markdown",
   "metadata": {},
   "source": [
    "### Matematikai műveletek"
   ]
  },
  {
   "cell_type": "code",
   "execution_count": 9,
   "metadata": {},
   "outputs": [],
   "source": [
    "# python-ban az alábbi műveletek használhatók:\n",
    "# + összeadás,\n",
    "# - kivonás,\n",
    "# * szorzás,\n",
    "# / osztás,\n",
    "# // egészosztás, pl: 3 // 2 = 1; (3.14 // 2 = 1.0)\n",
    "# % maradék-képzés\n",
    "#   pl: 13 % 5 = 3 (megvan kétszer, maradt a 3)\n",
    "# ** hatványozás ahol balra van az alap, jobbra a kitevő pl:\n",
    "#    2 ** 3 jelenti a 2³-t."
   ]
  },
  {
   "cell_type": "code",
   "execution_count": 10,
   "metadata": {},
   "outputs": [],
   "source": [
    "# Figyelem! Régi (ősrégi, <3.x) python verziók nem térnek át\n",
    "# automatikusan lebegőpontos számra, ha az eredmény egyébként\n",
    "# lebegőpontos lenne, pl: 3.1 / 2 = 1; az újabbakban:\n",
    "# 3.1 / 2 = 1.55"
   ]
  },
  {
   "cell_type": "markdown",
   "metadata": {},
   "source": [
    "Akit részletesebben érdekel: https://docs.python.org/2/tutorial/introduction.html"
   ]
  },
  {
   "cell_type": "markdown",
   "metadata": {},
   "source": [
    "Gyakorlásként számítsuk ki python segítségével az y értékét az alábbi képlet segítségével a következő x értékekre: 3; 4; 7; 9,85\n",
    "\n",
    "\\begin{align}\n",
    "y=ax^2+bx+c,\n",
    "\\end{align}\n",
    "\n",
    "ha \n",
    "\n",
    "\\begin{align}\n",
    "a=-0.13312\n",
    "\\end{align}\n",
    "\\begin{align}\n",
    "b=-1.7279\n",
    "\\end{align}\n",
    "\\begin{align}\n",
    "c=229.45\n",
    "\\end{align}"
   ]
  },
  {
   "cell_type": "code",
   "execution_count": 27,
   "metadata": {},
   "outputs": [
    {
     "name": "stdout",
     "output_type": "stream",
     "text": [
      "223.06822\n"
     ]
    }
   ],
   "source": [
    "a =    -0.13312\n",
    "b =    -1.7279\n",
    "c =   229.45\n",
    "\n",
    "x = 3\n",
    "\n",
    "y = a * x ** 2 + b * x + c\n",
    "print(y)"
   ]
  },
  {
   "cell_type": "code",
   "execution_count": 28,
   "metadata": {},
   "outputs": [
    {
     "name": "stdout",
     "output_type": "stream",
     "text": [
      "223.06822\n"
     ]
    }
   ],
   "source": [
    "# De ha már nagyon rutinos python™ versenyzők vagyunk:\n",
    "\n",
    "a, b, c = -0.13312, -1.7279, 229.45 # Így is lehet értéket adni:\n",
    "                                    # első az elsőhöz, második…\n",
    "x = 3\n",
    "y = a * x * x + b * x + c\n",
    "print(y)"
   ]
  },
  {
   "cell_type": "code",
   "execution_count": 13,
   "metadata": {},
   "outputs": [
    {
     "name": "stdout",
     "output_type": "stream",
     "text": [
      "223.06822\n"
     ]
    }
   ],
   "source": [
    "# És aki még dörzsöltebb:\n",
    "a, b, c = -0.13312, -1.7279, 229.45\n",
    "x = 3\n",
    "print(a * x * x + b * x + c)\n",
    "\n",
    "# https://en.wikipedia.org/wiki/Syntactic_sugar"
   ]
  },
  {
   "cell_type": "markdown",
   "metadata": {},
   "source": [
    "<span style=\"color:red\">🔔 Előfordulhat, hogy ebből a részből *teljesen váratlanul* röpdolgozatot írunk a következő óra elején.</span> A sírás és fogcsikorgatás elkerülése érdekében praktikus lenne otthon, vagy itt egy kicsit gyakorolni, még akkor is, ha látszólag nagyon egyszerű a feladat.\n",
    "Ha nem akartok python-t használni PC-n, akkor vannak jó online python interpreterek is, pl: https://repl.it/languages/python3\n",
    "Ezek telefonról is mennek."
   ]
  },
  {
   "cell_type": "code",
   "execution_count": 35,
   "metadata": {},
   "outputs": [
    {
     "name": "stdout",
     "output_type": "stream",
     "text": [
      "70; 4.66920160910299\n",
      "70; 70\n"
     ]
    }
   ],
   "source": [
    "# Természetesen változót is egyenlővé tehetünk változóval:\n",
    "\n",
    "i, k = 70, 4.66920160910299\n",
    "print(i, k, sep=\"; \")\n",
    "\n",
    "k = i\n",
    "print(i, k, sep=\"; \")"
   ]
  },
  {
   "cell_type": "code",
   "execution_count": 15,
   "metadata": {},
   "outputs": [],
   "source": [
    "# Vátozók értékének felcserélése:\n",
    "i, k = 70, 4.66920160910299 # Sima, összevont értékadás\n",
    "i, k = k, i # Nem kell köztes (harmadik) változó :-)"
   ]
  },
  {
   "cell_type": "markdown",
   "metadata": {},
   "source": [
    "[Következő](Eprog3.ipynb)"
   ]
  }
 ],
 "metadata": {
  "kernelspec": {
   "display_name": "Python 3",
   "language": "python",
   "name": "python3"
  },
  "language_info": {
   "codemirror_mode": {
    "name": "ipython",
    "version": 3
   },
   "file_extension": ".py",
   "mimetype": "text/x-python",
   "name": "python",
   "nbconvert_exporter": "python",
   "pygments_lexer": "ipython3",
   "version": "3.6.8"
  }
 },
 "nbformat": 4,
 "nbformat_minor": 2
}
