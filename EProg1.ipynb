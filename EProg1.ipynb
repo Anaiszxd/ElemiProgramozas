{
 "cells": [
  {
   "cell_type": "markdown",
   "metadata": {},
   "source": [
    "# Elemi Programozás"
   ]
  },
  {
   "cell_type": "markdown",
   "metadata": {},
   "source": [
    "Halmai Ákos\n",
    "\n",
    "Pécsi Tudományegyetem\n",
    "\n",
    "Természettudományi Kar\n",
    "\n",
    "Földrajzi és Földtudományi Intézet\n",
    "\n",
    "Térképészeti és Geoinformatikai Tanszék"
   ]
  },
  {
   "cell_type": "markdown",
   "metadata": {},
   "source": [
    "<span style=\"color:red\">Nincs kész! Ne olvasgasd!</span>"
   ]
  },
  {
   "cell_type": "markdown",
   "metadata": {},
   "source": [
    "http://foldrajz.ttk.pte.hu/munkatars/halmai_akos\n",
    "\n",
    "https://www.facebook.com/people/%C3%81kos-Halmai/100006926054823"
   ]
  },
  {
   "cell_type": "markdown",
   "metadata": {},
   "source": [
    "## Bevezetés"
   ]
  },
  {
   "cell_type": "markdown",
   "metadata": {},
   "source": [
    "A python™ az egyik legnépszerűbb, széleskörben elterjedt szkriptnyelv. Gyakran használják különböző szoftverekben rutinszerűen elvégzendő műveletek automatizálására és makrózására, de önállóan is gyakran lehet vele találkozni – mind az üzleti-, mind a tudományos világban."
   ]
  },
  {
   "cell_type": "markdown",
   "metadata": {},
   "source": [
    "A python™ egy szabadszoftver, így forráskódja megismerhető és elemezhető. A python™ leírása, súgója, dokumentációja, binárisai és licenc-feltételei elérhetők a https://www.python.org/ link alatt."
   ]
  },
  {
   "cell_type": "markdown",
   "metadata": {},
   "source": [
    "A python™ elérhető Microsoft® Windows®-ra, macOS X-re, AIX-re, IBM-re, iOS-re, OS/390-re, z/OS-re, Solaris-ra, VMS-re, HP-UX-re és gyakorlatilag mindenféle Linux-ra és UNIX-szerű operációs rendszerre, így – gyakorlatilag – platformfüggetlennek tekinthető."
   ]
  },
  {
   "cell_type": "markdown",
   "metadata": {},
   "source": [
    "A python™ egyik alapelképzelése, hogy egy egyszerű szövegfájlban megfogalmazzuk python™ programunkat és az bárol, bármilyen platformon lefuttathatjuk, ahol van python™ környezet telepítve."
   ]
  },
  {
   "cell_type": "markdown",
   "metadata": {},
   "source": [
    "A python™ interaktív, interpreteres szkriptnyelv: ez a gyakorlatban azt jelenti, hogy az utasításokat kvázi soronként értelmezi és hajtja végre. Ez jelentős eltérés a C, a C++, a C♯, de akár még az ECMAScript (JavaScript) egyes megvalósításaihoz képest is."
   ]
  },
  {
   "cell_type": "markdown",
   "metadata": {},
   "source": [
    "Híresebb python™ programok: https://en.wikipedia.org/wiki/List_of_Python_software"
   ]
  },
  {
   "cell_type": "markdown",
   "metadata": {},
   "source": [
    "## 🕱–! Spoiler Alert !–🕱"
   ]
  },
  {
   "cell_type": "markdown",
   "metadata": {},
   "source": [
    "A következő részekben a python™ lényegi részei következnek; azok, akik ezek megismerését a vizsga előtti 10 percre, vagy az azt megelőző fél éjszakára szeretnék tartogatni mostantól 𝘯𝘦 figyeljenek oda!"
   ]
  },
  {
   "cell_type": "markdown",
   "metadata": {},
   "source": [
    "## Numerikus változók"
   ]
  },
  {
   "cell_type": "code",
   "execution_count": 1,
   "metadata": {},
   "outputs": [],
   "source": [
    "# Innentől közvetlenül a python™ konzolra, vagy szkriptfájlba írunk.\n",
    "# A sor elején szereplő „#” jel jelzi a python™ értelmezője számára,\n",
    "# hogy a következő sortörés karakter(ek)ig tartó rész nem utasítás,\n",
    "# hanem csak egy „komment”, egy olyan megjegyzés, amely csak azt a\n",
    "# célt szolgálja, hogy magyarázatokat, leírásokat fűzzünk a kódunkhoz.\n",
    "\n",
    "# A python™ nem érzékeny a „#” jel sorközi, ismételt használatára,\n",
    "# így továbbra is komment módban vagyunk."
   ]
  },
  {
   "cell_type": "code",
   "execution_count": 2,
   "metadata": {},
   "outputs": [],
   "source": [
    "# A python™ változókezelése erősen leegyszerűsített a felhasználó \n",
    "# kényelme érdekében – és gyakorlatilag három fő kategóriára\n",
    "# osztható:\n",
    "#     1. számokra (egészekre és lebegőpontosokra)\n",
    "#     2. szövegre\n",
    "#     3. objektumokra\n",
    "\n",
    "# Kezdjük a számokkal!\n",
    "\n",
    "# Változók értékadása típustól függetlenül mindig azonos formában történik:\n",
    "#     változónév = érték"
   ]
  },
  {
   "cell_type": "markdown",
   "metadata": {},
   "source": [
    "### Egész számok"
   ]
  },
  {
   "cell_type": "code",
   "execution_count": null,
   "metadata": {},
   "outputs": [],
   "source": [
    "# Adjunk meg egy egész számot:\n",
    "egesz = 15 # Itt „egesz” jelöli a változó nevét – később így hivatkozunk rá –,\n",
    "           # az „=” maga az utasítás, hogy legyen egyenlő,\n",
    "           # a „15” pedig maga az érték.\n",
    "           # A python™ onnan tudja, hogy ez egy egészszám, hogy nincs benne\n",
    "           # tizedesjel, ami a pythonban univerzálisan „.” (sima pont)."
   ]
  },
  {
   "cell_type": "code",
   "execution_count": 5,
   "metadata": {},
   "outputs": [
    {
     "name": "stdout",
     "output_type": "stream",
     "text": [
      "15\n"
     ]
    }
   ],
   "source": [
    "# Nyomtassuk ki a képernyőre!\n",
    "print(egesz)\n",
    "\n",
    "# A python™-ban a képernyőre nyomtatás parancsa a print()."
   ]
  },
  {
   "cell_type": "code",
   "execution_count": 1,
   "metadata": {},
   "outputs": [
    {
     "name": "stdout",
     "output_type": "stream",
     "text": [
      "-1367\n"
     ]
    }
   ],
   "source": [
    "# Természetesen negatív egész számokat is megadhatunk:\n",
    "negesz = -1367\n",
    "print(negesz)"
   ]
  },
  {
   "cell_type": "code",
   "execution_count": 2,
   "metadata": {},
   "outputs": [
    {
     "name": "stdout",
     "output_type": "stream",
     "text": [
      "1575729309309309112226230978889291226329789290631309309131292997697956930309129293091292264264246283309133091226264262626330936930827026262633096968306264372264336833026427368626330833026432831226328330264232\n"
     ]
    }
   ],
   "source": [
    "# A legtöbb programnyelvben az egész számok minimum- és\n",
    "# maximum értéke korlátozott, így például vannak \n",
    "# [-128; +127] ⋲ ℤ;\n",
    "# [-9223372036854775808; +9223372036854775807] ⋲ ℤ;\n",
    "# stb.\n",
    "\n",
    "# A python™ azonban nem ilyen, itt az egész számok mérete\n",
    "# gyakorlatilag korlátlan:\n",
    "\n",
    "nagyegesz = 787864654654654556113115489444645613164894645315654654565646498848978465154564646545646132132123141654566545613132131313165468465413513131316548484153132186132168416513213684313165416513216415613164165132116\n",
    "\n",
    "print(nagyegesz)"
   ]
  },
  {
   "cell_type": "code",
   "execution_count": 3,
   "metadata": {},
   "outputs": [
    {
     "name": "stdout",
     "output_type": "stream",
     "text": [
      "0; 0\n"
     ]
    }
   ],
   "source": [
    "# A python™ az előjeles nulla egészeket nem támogatja:\n",
    "\n",
    "simanulla = 0\n",
    "negnulla = -0\n",
    "\n",
    "print(simanulla, negnulla, sep=\"; \") # Mind a kettő 0."
   ]
  },
  {
   "cell_type": "markdown",
   "metadata": {},
   "source": [
    "A „print()” függvényt úgy is használhatjuk, hogy egyszerűen felsoroljuk a változókat vesszővel elválasztva."
   ]
  },
  {
   "cell_type": "markdown",
   "metadata": {},
   "source": [
    "[Következő](EProg2.ipynb)"
   ]
  }
 ],
 "metadata": {
  "kernelspec": {
   "display_name": "Python 3",
   "language": "python",
   "name": "python3"
  },
  "language_info": {
   "codemirror_mode": {
    "name": "ipython",
    "version": 3
   },
   "file_extension": ".py",
   "mimetype": "text/x-python",
   "name": "python",
   "nbconvert_exporter": "python",
   "pygments_lexer": "ipython3",
   "version": "3.6.8"
  }
 },
 "nbformat": 4,
 "nbformat_minor": 2
}
