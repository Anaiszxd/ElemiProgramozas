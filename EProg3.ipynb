{
 "cells": [
  {
   "cell_type": "markdown",
   "metadata": {},
   "source": [
    "## Változók típusának lekérdezése"
   ]
  },
  {
   "cell_type": "code",
   "execution_count": 16,
   "metadata": {},
   "outputs": [
    {
     "name": "stdout",
     "output_type": "stream",
     "text": [
      "Az ‘𝒍’ változó típusa: <class 'float'>\n",
      "Az ‘𝑒’ változó típusa: <class 'int'>\n",
      "\n",
      "\n",
      "Ez lebegőpontos lesz: <class 'float'>\n",
      "Ez egész: <class 'int'>\n",
      "\n",
      "\n",
      "Közvetlen értékadással is működik: <class 'int'>\n"
     ]
    }
   ],
   "source": [
    "# Idág még csak a szám típusú változók két altípusát\n",
    "# ismertük meg, de hogyan lehet ezeket a kódból meg-\n",
    "# különböztetni?\n",
    "# Ha mi magunk írjuk a kódot, akkor nyilván könnyű,\n",
    "# de mi van akkor, ha valahonnan külső forrásból\n",
    "# származik a változó és annak értéke?\n",
    "\n",
    "# A típus lekérdezésére a python™ egy beépített\n",
    "# kulcsszót kínál: ez a „type(…)”.\n",
    "\n",
    "l = 2 ** .5 # Ez a √2 ≈ 1.4142135….\n",
    "e = 3\n",
    "\n",
    "print(\"Az ‘𝒍’ változó típusa:\", type(l)) # <class 'float'>\n",
    "print(\"Az ‘𝑒’ változó típusa:\", type(e)) # <class 'int'>\n",
    "\n",
    "print(\"\\n\") # Így nyomtatunk sortörést, hogy az eremények\n",
    "            # ne follyanak össze.\n",
    "\n",
    "# Természetesen nem csak változókkal, hanem más\n",
    "# kifejezeésekkel is működik:\n",
    "print(\"Ez lebegőpontos lesz:\", type(2 ** (1 / 3))) # <class 'float'>\n",
    "print(\"Ez egész:\", type(1 * 2 * 3 * 4)) # <class 'int'>\n",
    "\n",
    "print(\"\\n\")\n",
    "\n",
    "print(\"Közvetlen értékadással is működik:\", type(99))"
   ]
  },
  {
   "cell_type": "code",
   "execution_count": null,
   "metadata": {},
   "outputs": [],
   "source": [
    "# A type() függvény más, később megismert változó\n",
    "# típusokkal is működni fog."
   ]
  },
  {
   "cell_type": "markdown",
   "metadata": {},
   "source": [
    "Ha érdekelnek a különleges karakterek, pl. amit fenn‘𝒍’-ként és ‘𝑒’-ként használtam, vagy a ‘…’ (ellipszis), vagy egészen vad dolgokra vágytok, akkor próbáljátok ki a https://tell.wtf -et."
   ]
  },
  {
   "cell_type": "markdown",
   "metadata": {},
   "source": [
    "[Következő](EProg4.ipynb)"
   ]
  }
 ],
 "metadata": {
  "kernelspec": {
   "display_name": "Python 3",
   "language": "python",
   "name": "python3"
  },
  "language_info": {
   "codemirror_mode": {
    "name": "ipython",
    "version": 3
   },
   "file_extension": ".py",
   "mimetype": "text/x-python",
   "name": "python",
   "nbconvert_exporter": "python",
   "pygments_lexer": "ipython3",
   "version": "3.6.8"
  }
 },
 "nbformat": 4,
 "nbformat_minor": 2
}
